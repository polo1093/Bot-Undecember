{
 "cells": [
  {
   "attachments": {},
   "cell_type": "markdown",
   "metadata": {},
   "source": [
    "# Déclaration"
   ]
  },
  {
   "cell_type": "code",
   "execution_count": 1,
   "metadata": {},
   "outputs": [],
   "source": [
    "from importlib import reload\n",
    "import numpy as np\n",
    "import time\n",
    "import datetime\n",
    "import pyautogui\n",
    "import pandas as pd\n",
    "import re\n",
    "import keyboard\n",
    "import os\n",
    "import fct\n",
    "reload(fct)\n",
    "\n",
    "wave=pd.read_csv('wave.csv')\n",
    "\n",
    "class Perso():\n",
    "    \"\"\"_summary_\n",
    "    num_perso numéro du perso à séléctionner\n",
    "    raid faire attention au horaires des maps\n",
    "    \n",
    "    \"\"\"\n",
    "    def __init__(self,num_perso=2,blue_map=True,raid=False,region_map=False):\n",
    "        self.filtre_actif= region_map\n",
    "        self.num_perso=num_perso\n",
    "        self.test_in_game()\n",
    "        self.region_map=region_map\n",
    "        self.blue_map=blue_map\n",
    "        self.actif_raid=raid\n",
    "\n",
    "    def test_in_game(self):\n",
    "        path1=f'screen/launch/test_in_game.png'\n",
    "        if pyautogui.locateOnScreen(path1, grayscale=False, confidence=0.95) is None :\n",
    "            if pyautogui.locateOnScreen(f'screen/launch/in_tower.png',grayscale=True,confidence=0.9) is None :\n",
    "                if fct.launch_game(self.num_perso) is False:\n",
    "                        fct.close_game(\"test_in_game\")\n",
    "    \n",
    "    def is_raid_time(self,creneau1=[15.45,18.15],creneau2=0):\n",
    "        if self.actif_raid:\n",
    "            now = datetime.datetime.now()\n",
    "            if now.hour>= int(creneau1[0]) and now.hour<=creneau1[1]:\n",
    "                if now.hour==int(creneau1[1]) and now.minute>=creneau1[1]%1*100:\n",
    "                    return False\n",
    "                if now.hour>int(creneau1[0]):\n",
    "                    return True\n",
    "                if now.hour==int(creneau1[0]) and now.minute>=creneau1[0]%1*100:\n",
    "                    return True\n",
    "            if creneau2:      \n",
    "                if now.hour>= int(creneau2[0]) and now.hour<=creneau2[1]:\n",
    "                    if now.hour==int(creneau2[1]) and now.minute>=creneau2[1]%1*100:\n",
    "                        return False\n",
    "                    if now.hour>int(creneau2[0]):\n",
    "                        return True\n",
    "                    if now.hour==int(creneau2[0]) and now.minute>=creneau2[0]%1*100:\n",
    "                        return True\n",
    "        return False        \n",
    "    \n",
    "    def launch_map(self):\n",
    "        if self.region_map:\n",
    "            #sélection par region\n",
    "            np.random.shuffle(list_map)\n",
    "            for name_map in list_map:\n",
    "                find=fct.find_region(name_map,0)\n",
    "                if find:\n",
    "                    pyautogui.rightClick( find)\n",
    "                    break               \n",
    "        else:\n",
    "            #sélection par couleur\n",
    "            if not self.filtre_actif:\n",
    "                fct.filtre_map(list_map)\n",
    "                self.filtre_actif=True\n",
    "            for i in range(6):\n",
    "                pyautogui.moveTo(2400,1050)\n",
    "                for j in range(0,15): pyautogui.scroll(-3000)\n",
    "                pyautogui.moveTo(1300,700)\n",
    "                time.sleep(0.2)\n",
    "                for name_map in list_map:\n",
    "                    find = pyautogui.locateOnScreen(f'screen/map/{name_map}.png',region=[1930,363,2445,1080], confidence=0.90)\n",
    "                    if find:\n",
    "                        pyautogui.rightClick( pyautogui.center(find))\n",
    "                        break\n",
    "                    if self.blue_map:  \n",
    "                        find=fct.find_blue(f'screen/map/{name_map}_b.png')\n",
    "                        if find: \n",
    "                            pyautogui.rightClick( pyautogui.center(find))\n",
    "                            break\n",
    "                if find: break\n",
    "\n",
    "        time.sleep(1)\n",
    "        fct.click_icone('screen/launch/activate.png',3,0.3,False,0.8)\n",
    "        time.sleep(1)\n",
    "        if fct.click_icone('screen/launch/croix.png',1):\n",
    "            time.sleep(1)\n",
    "            return False\n",
    "        if fct.go_map(wave)==False:return False\n",
    "        fct.click_icone('screen/launch/waypoint.png',1)#à cause ges map jaunes\n",
    "        return name_map\n",
    "    \n",
    "    def find_map_on_start(self,name_map):\n",
    "        for i in range(10):\n",
    "            if fct.in_map():break\n",
    "            time.sleep(1)\n",
    "        fct.click_icone('screen/launch/tab_map.png',1,confidence=0.85)\n",
    "        pyautogui.moveTo(700,700)\n",
    "        time.sleep(0.2)\n",
    "        for i in range(10):\n",
    "            if pyautogui.locateOnScreen(f'screen/map/{name_map}_1.png',confidence=0.85-(i*0.01)):\n",
    "                name_map+= '_1'\n",
    "                break\n",
    "            elif pyautogui.locateOnScreen(f'screen/map/{name_map}_2.png',confidence=0.85-(i*0.01)):\n",
    "                name_map+= '_2'\n",
    "                break\n",
    "            elif i==9:\n",
    "                print(\"erreur début de map\")\n",
    "                name_map=fct.error_start_map(list_map)\n",
    "                if name_map==False:\n",
    "                    fct.leave_map()\n",
    "                    return False\n",
    "                print(f\"map récupére {name_map}\")\n",
    "                break\n",
    "            time.sleep(1)\n",
    "        return name_map\n",
    "        \n",
    "        \n",
    "    def run_map(self,name_map,wave,retry=True,ancien_run=1):\n",
    "        WAIT_GOLD=50\n",
    "        end=False\n",
    "        name_map = self.find_map_on_start(name_map)\n",
    "        if name_map == False: return False\n",
    "        \n",
    "        fct.prepar_run(self.num_perso)\n",
    "        #run\n",
    "        timer_gold=fct.timer.Timer(WAIT_GOLD)\n",
    "        for i,point in enumerate(wave[name_map]):\n",
    "            if pd.isna(point) :\n",
    "                break\n",
    "            x,y=map(int,re.findall(r'\\d+',point))\n",
    "            if i%5==0 and self.num_perso>=2:\n",
    "                fct.keyboard('a',0.9)\n",
    "            \n",
    "            if not fct.clik_move_map(x,y):\n",
    "                fct.clik_move_map(x,y)\n",
    "                \n",
    "            #pause entre deux points\n",
    "            timer_move = fct.timer.Timer( fct.time_run(x,y)*1.1 if self.num_perso==1 else fct.time_run(x,y) )\n",
    "            while timer_move.is_running():\n",
    "                if keyboard.is_pressed('space'):\n",
    "                    print(i,end=\" \")\n",
    "                    time.sleep(0.9)\n",
    "                    while not keyboard.is_pressed('+'):\n",
    "                        time.sleep(0.05)\n",
    "                    fct.keyboard('a',0.2)\n",
    "                    print(\"end_pause\")\n",
    "                    pyautogui.doubleClick(1200,1400)\n",
    "                    timer_gold=fct.timer.Timer(WAIT_GOLD)\n",
    "                    if self.num_perso ==2:\n",
    "                        fct.keyboard('a',0.7)\n",
    "                                 \n",
    "                #test ennemi found\n",
    "                if pyautogui.locateOnScreen(f'screen/map/ennemi.png',region=[1850,920,1900,1210],confidence=0.7,grayscale=True):\n",
    "                    timer_gold=fct.timer.Timer(WAIT_GOLD)\n",
    "                if timer_gold.is_expire() and (retry==True or ancien_run==2): \n",
    "                    end=True\n",
    "                    break\n",
    "                time.sleep(0.05)\n",
    "            if end:break\n",
    "            if fct.death():return False \n",
    "               \n",
    "        if not fct.kill_boss(wave[name_map[:-2]+'_boss'],retry,self.num_perso):\n",
    "            if retry:\n",
    "                fct.escape()\n",
    "                self.run_map(name_map[:-2],wave,False,int(name_map[-1]))"
   ]
  },
  {
   "cell_type": "code",
   "execution_count": 18,
   "metadata": {},
   "outputs": [],
   "source": [
    "time.sleep(0.5)\n",
    "fct.keyboard('a')"
   ]
  },
  {
   "attachments": {},
   "cell_type": "markdown",
   "metadata": {},
   "source": [
    "## Enregistrement"
   ]
  },
  {
   "cell_type": "code",
   "execution_count": 44,
   "metadata": {},
   "outputs": [
    {
     "name": "stdout",
     "output_type": "stream",
     "text": [
      "1042,692\n",
      "1189,670\n",
      "1390,1132\n",
      "1486,1144\n",
      "1588,1120\n",
      "1858,1163\n",
      "2006,996\n",
      "1998,448\n",
      "1564,169\n",
      "1351,163\n",
      "1737,199\n",
      "1937,253\n",
      "2297,664\n",
      "2343,737\n",
      "2385,818\n",
      "2160,534\n",
      "2116,450\n",
      "1600,159\n",
      "1483,175\n",
      "1314,171\n",
      "1077,140\n",
      "1672,219\n",
      "1782,248\n",
      "1929,428\n",
      "1844,304\n",
      "1844,304\n",
      "-1108,650\n",
      "2147,523\n",
      "2146,523\n",
      "1944,1098\n",
      "1944,1098\n",
      "1183,1192\n",
      "1649,1258\n",
      "1628,1221\n",
      "1628,1221\n",
      "1652,1212\n",
      "1565,1210\n",
      "1506,1210\n",
      "1678,1202\n",
      "1927,969\n",
      "2078,887\n",
      "2220,883\n",
      "2261,800\n",
      "2112,567\n",
      "1563,231\n",
      "1206,231\n",
      "858,204\n",
      "709,253\n",
      "709,253\n",
      "-894,512\n",
      "-1189,317\n"
     ]
    },
    {
     "ename": "KeyboardInterrupt",
     "evalue": "",
     "output_type": "error",
     "traceback": [
      "\u001b[1;31m---------------------------------------------------------------------------\u001b[0m",
      "\u001b[1;31mKeyboardInterrupt\u001b[0m                         Traceback (most recent call last)",
      "Cell \u001b[1;32mIn[44], line 18\u001b[0m\n\u001b[0;32m     16\u001b[0m     time\u001b[39m.\u001b[39msleep(\u001b[39m0.2\u001b[39m)\n\u001b[0;32m     17\u001b[0m     fct\u001b[39m.\u001b[39mkeyboard(\u001b[39m'\u001b[39m\u001b[39mq\u001b[39m\u001b[39m'\u001b[39m,\u001b[39m0.7\u001b[39m)\n\u001b[1;32m---> 18\u001b[0m     time\u001b[39m.\u001b[39msleep(\u001b[39m1\u001b[39m)\n\u001b[0;32m     20\u001b[0m \u001b[39mif\u001b[39;00m \u001b[39mnot\u001b[39;00m fct\u001b[39m.\u001b[39mclik_move_map(x,y): \n\u001b[0;32m     21\u001b[0m     fct\u001b[39m.\u001b[39mclik_move_map(x,y)\n",
      "\u001b[1;31mKeyboardInterrupt\u001b[0m: "
     ]
    }
   ],
   "source": [
    "pyautogui.leftClick(1200,1400)\n",
    "time.sleep(0.5)\n",
    "pyautogui.leftClick(1200,1400)\n",
    "\n",
    "while 1:\n",
    "    \"\"\"    while not keyboard.is_pressed('space'):\n",
    "        time.sleep(0.1)              \n",
    "        \"\"\"\n",
    "    time.sleep(2.7)\n",
    "    x,y=pyautogui.position()\n",
    "    print(f'{x},{y}')        \n",
    "     \n",
    "     \n",
    "    if 1:\n",
    "        time.sleep(0.2)\n",
    "        fct.keyboard('q',0.7)\n",
    "        time.sleep(1)\n",
    "       \n",
    "    if not fct.clik_move_map(x,y): \n",
    "        fct.clik_move_map(x,y)\n",
    "\n",
    "    \n"
   ]
  },
  {
   "attachments": {},
   "cell_type": "markdown",
   "metadata": {},
   "source": [
    "## Parcours un colonne"
   ]
  },
  {
   "cell_type": "code",
   "execution_count": 20,
   "metadata": {},
   "outputs": [
    {
     "name": "stdout",
     "output_type": "stream",
     "text": [
      "1\n",
      "2\n",
      "0 1 "
     ]
    },
    {
     "ename": "KeyboardInterrupt",
     "evalue": "",
     "output_type": "error",
     "traceback": [
      "\u001b[1;31m---------------------------------------------------------------------------\u001b[0m",
      "\u001b[1;31mKeyboardInterrupt\u001b[0m                         Traceback (most recent call last)",
      "Cell \u001b[1;32mIn[20], line 7\u001b[0m\n\u001b[0;32m      4\u001b[0m pyautogui\u001b[39m.\u001b[39mleftClick(\u001b[39m1200\u001b[39m,\u001b[39m1400\u001b[39m)\n\u001b[0;32m      6\u001b[0m \u001b[39mwhile\u001b[39;00m \u001b[39m1\u001b[39m:\n\u001b[1;32m----> 7\u001b[0m     time\u001b[39m.\u001b[39;49msleep(\u001b[39m2.5\u001b[39;49m)\n\u001b[0;32m      8\u001b[0m     wave\u001b[39m=\u001b[39mpd\u001b[39m.\u001b[39mread_csv(\u001b[39m'\u001b[39m\u001b[39mwave.csv\u001b[39m\u001b[39m'\u001b[39m)\n\u001b[0;32m      9\u001b[0m     n\u001b[39m=\u001b[39mwave\u001b[39m.\u001b[39mloc[cpt,\u001b[39m\"\u001b[39m\u001b[39mLighting_1\u001b[39m\u001b[39m\"\u001b[39m]\n",
      "\u001b[1;31mKeyboardInterrupt\u001b[0m: "
     ]
    }
   ],
   "source": [
    "cpt=0\n",
    "pyautogui.leftClick(1200,1400)\n",
    "time.sleep(0.5)\n",
    "pyautogui.leftClick(1200,1400)\n",
    "\n",
    "while 1:\n",
    "    time.sleep(2.5)\n",
    "    wave=pd.read_csv('wave.csv')\n",
    "    n=wave.loc[cpt,\"Lighting_1\"]\n",
    "    if pd.isna(n) == False:\n",
    "        n=re.findall(r'\\d+',n)\n",
    "        if cpt%5==0:\n",
    "            time.sleep(0.2)\n",
    "            fct.keyboard('q',0.5)\n",
    "            time.sleep(1)\n",
    "            \n",
    "           \n",
    "        if not fct.clik_move_map(int(n[0]),int(n[1])):\n",
    "            print(1)\n",
    "            if not fct.clik_move_map(int(n[0]),int(n[1])):\n",
    "                print(2)\n",
    "                \n",
    "                fct.clik_move_map(int(n[0]),int(n[1]))\n",
    "       \n",
    "        print(cpt,end=' ')\n",
    "        cpt+=1"
   ]
  },
  {
   "cell_type": "code",
   "execution_count": 134,
   "metadata": {},
   "outputs": [
    {
     "ename": "KeyboardInterrupt",
     "evalue": "",
     "output_type": "error",
     "traceback": [
      "\u001b[1;31m---------------------------------------------------------------------------\u001b[0m",
      "\u001b[1;31mKeyboardInterrupt\u001b[0m                         Traceback (most recent call last)",
      "Cell \u001b[1;32mIn[134], line 6\u001b[0m\n\u001b[0;32m      3\u001b[0m m\u001b[39m=\u001b[39m\u001b[39m'\u001b[39m\u001b[39mPlague\u001b[39m\u001b[39m'\u001b[39m\n\u001b[0;32m      5\u001b[0m perso\u001b[39m=\u001b[39mPerso(\u001b[39m1\u001b[39m,raid\u001b[39m=\u001b[39m\u001b[39mFalse\u001b[39;00m)\n\u001b[1;32m----> 6\u001b[0m perso\u001b[39m.\u001b[39;49mrun_map(m,wave)\n",
      "Cell \u001b[1;32mIn[131], line 104\u001b[0m, in \u001b[0;36mPerso.run_map\u001b[1;34m(self, m, wave, retry, ancien_run)\u001b[0m\n\u001b[0;32m    102\u001b[0m \u001b[39mfor\u001b[39;00m i \u001b[39min\u001b[39;00m \u001b[39mrange\u001b[39m(\u001b[39m10\u001b[39m):\n\u001b[0;32m    103\u001b[0m     \u001b[39mif\u001b[39;00m fct\u001b[39m.\u001b[39min_map():\u001b[39mbreak\u001b[39;00m\n\u001b[1;32m--> 104\u001b[0m     time\u001b[39m.\u001b[39;49msleep(\u001b[39m1\u001b[39;49m)\n\u001b[0;32m    105\u001b[0m fct\u001b[39m.\u001b[39mclick_icone(\u001b[39m'\u001b[39m\u001b[39mscreen/launch/tab_map.png\u001b[39m\u001b[39m'\u001b[39m,\u001b[39m1\u001b[39m,confidence\u001b[39m=\u001b[39m\u001b[39m0.85\u001b[39m)\n\u001b[0;32m    106\u001b[0m pyautogui\u001b[39m.\u001b[39mmoveTo(\u001b[39m700\u001b[39m,\u001b[39m700\u001b[39m)\n",
      "\u001b[1;31mKeyboardInterrupt\u001b[0m: "
     ]
    }
   ],
   "source": [
    "import fct\n",
    "reload(fct)\n",
    "time.sleep(2)\n",
    "m='Plague'\n",
    "\n",
    "perso=Perso(1,raid=False)\n",
    "perso.run_map(m,wave)\n"
   ]
  },
  {
   "cell_type": "code",
   "execution_count": 135,
   "metadata": {},
   "outputs": [
    {
     "data": {
      "text/plain": [
       "'Plague'"
      ]
     },
     "execution_count": 135,
     "metadata": {},
     "output_type": "execute_result"
    }
   ],
   "source": [
    "reload(fct)\n",
    "fct.raid([18.45,20])\n",
    "list_map\n",
    "m"
   ]
  },
  {
   "cell_type": "code",
   "execution_count": 5,
   "metadata": {},
   "outputs": [
    {
     "ename": "FailSafeException",
     "evalue": "PyAutoGUI fail-safe triggered from mouse moving to a corner of the screen. To disable this fail-safe, set pyautogui.FAILSAFE to False. DISABLING FAIL-SAFE IS NOT RECOMMENDED.",
     "output_type": "error",
     "traceback": [
      "\u001b[1;31m---------------------------------------------------------------------------\u001b[0m",
      "\u001b[1;31mFailSafeException\u001b[0m                         Traceback (most recent call last)",
      "Cell \u001b[1;32mIn[5], line 4\u001b[0m\n\u001b[0;32m      2\u001b[0m pyautogui\u001b[39m.\u001b[39mleftClick(fct\u001b[39m.\u001b[39mresolution_scale(\u001b[39m\"\u001b[39m\u001b[39m2520,1120\u001b[39m\u001b[39m\"\u001b[39m))\n\u001b[0;32m      3\u001b[0m time\u001b[39m.\u001b[39msleep(\u001b[39m5\u001b[39m)\n\u001b[1;32m----> 4\u001b[0m pyautogui\u001b[39m.\u001b[39;49mleftClick(\u001b[39m1536\u001b[39;49m,\u001b[39m792\u001b[39;49m)\n",
      "File \u001b[1;32mc:\\Users\\User\\AppData\\Local\\Programs\\Python\\Python311\\Lib\\site-packages\\pyautogui\\__init__.py:598\u001b[0m, in \u001b[0;36m_genericPyAutoGUIChecks.<locals>.wrapper\u001b[1;34m(*args, **kwargs)\u001b[0m\n\u001b[0;32m    595\u001b[0m \u001b[39m@functools\u001b[39m\u001b[39m.\u001b[39mwraps(wrappedFunction)\n\u001b[0;32m    596\u001b[0m \u001b[39mdef\u001b[39;00m \u001b[39mwrapper\u001b[39m(\u001b[39m*\u001b[39margs, \u001b[39m*\u001b[39m\u001b[39m*\u001b[39mkwargs):\n\u001b[0;32m    597\u001b[0m     failSafeCheck()\n\u001b[1;32m--> 598\u001b[0m     returnVal \u001b[39m=\u001b[39m wrappedFunction(\u001b[39m*\u001b[39;49margs, \u001b[39m*\u001b[39;49m\u001b[39m*\u001b[39;49mkwargs)\n\u001b[0;32m    599\u001b[0m     _handlePause(kwargs\u001b[39m.\u001b[39mget(\u001b[39m\"\u001b[39m\u001b[39m_pause\u001b[39m\u001b[39m\"\u001b[39m, \u001b[39mTrue\u001b[39;00m))\n\u001b[0;32m    600\u001b[0m     \u001b[39mreturn\u001b[39;00m returnVal\n",
      "File \u001b[1;32mc:\\Users\\User\\AppData\\Local\\Programs\\Python\\Python311\\Lib\\site-packages\\pyautogui\\__init__.py:1028\u001b[0m, in \u001b[0;36mleftClick\u001b[1;34m(x, y, interval, duration, tween, logScreenshot, _pause)\u001b[0m\n\u001b[0;32m   1003\u001b[0m \u001b[39m\u001b[39m\u001b[39m\"\"\"Performs a left mouse button click.\u001b[39;00m\n\u001b[0;32m   1004\u001b[0m \n\u001b[0;32m   1005\u001b[0m \u001b[39mThis is a wrapper function for click('left', x, y).\u001b[39;00m\n\u001b[1;32m   (...)\u001b[0m\n\u001b[0;32m   1024\u001b[0m \u001b[39m  None\u001b[39;00m\n\u001b[0;32m   1025\u001b[0m \u001b[39m\"\"\"\u001b[39;00m\n\u001b[0;32m   1027\u001b[0m \u001b[39m# TODO - Do we need the decorator for this function? Should click() handle this? (Also applies to other alias functions.)\u001b[39;00m\n\u001b[1;32m-> 1028\u001b[0m click(x, y, \u001b[39m1\u001b[39;49m, interval, LEFT, duration, tween, logScreenshot, _pause\u001b[39m=\u001b[39;49m_pause)\n",
      "File \u001b[1;32mc:\\Users\\User\\AppData\\Local\\Programs\\Python\\Python311\\Lib\\site-packages\\pyautogui\\__init__.py:598\u001b[0m, in \u001b[0;36m_genericPyAutoGUIChecks.<locals>.wrapper\u001b[1;34m(*args, **kwargs)\u001b[0m\n\u001b[0;32m    595\u001b[0m \u001b[39m@functools\u001b[39m\u001b[39m.\u001b[39mwraps(wrappedFunction)\n\u001b[0;32m    596\u001b[0m \u001b[39mdef\u001b[39;00m \u001b[39mwrapper\u001b[39m(\u001b[39m*\u001b[39margs, \u001b[39m*\u001b[39m\u001b[39m*\u001b[39mkwargs):\n\u001b[0;32m    597\u001b[0m     failSafeCheck()\n\u001b[1;32m--> 598\u001b[0m     returnVal \u001b[39m=\u001b[39m wrappedFunction(\u001b[39m*\u001b[39;49margs, \u001b[39m*\u001b[39;49m\u001b[39m*\u001b[39;49mkwargs)\n\u001b[0;32m    599\u001b[0m     _handlePause(kwargs\u001b[39m.\u001b[39mget(\u001b[39m\"\u001b[39m\u001b[39m_pause\u001b[39m\u001b[39m\"\u001b[39m, \u001b[39mTrue\u001b[39;00m))\n\u001b[0;32m    600\u001b[0m     \u001b[39mreturn\u001b[39;00m returnVal\n",
      "File \u001b[1;32mc:\\Users\\User\\AppData\\Local\\Programs\\Python\\Python311\\Lib\\site-packages\\pyautogui\\__init__.py:983\u001b[0m, in \u001b[0;36mclick\u001b[1;34m(x, y, clicks, interval, button, duration, tween, logScreenshot, _pause)\u001b[0m\n\u001b[0;32m    980\u001b[0m x, y \u001b[39m=\u001b[39m _normalizeXYArgs(x, y)\n\u001b[0;32m    982\u001b[0m \u001b[39m# Move the mouse cursor to the x, y coordinate:\u001b[39;00m\n\u001b[1;32m--> 983\u001b[0m _mouseMoveDrag(\u001b[39m\"\u001b[39;49m\u001b[39mmove\u001b[39;49m\u001b[39m\"\u001b[39;49m, x, y, \u001b[39m0\u001b[39;49m, \u001b[39m0\u001b[39;49m, duration, tween)\n\u001b[0;32m    985\u001b[0m _logScreenshot(logScreenshot, \u001b[39m\"\u001b[39m\u001b[39mclick\u001b[39m\u001b[39m\"\u001b[39m, \u001b[39m\"\u001b[39m\u001b[39m%s\u001b[39;00m\u001b[39m,\u001b[39m\u001b[39m%s\u001b[39;00m\u001b[39m,\u001b[39m\u001b[39m%s\u001b[39;00m\u001b[39m,\u001b[39m\u001b[39m%s\u001b[39;00m\u001b[39m\"\u001b[39m \u001b[39m%\u001b[39m (button, clicks, x, y), folder\u001b[39m=\u001b[39m\u001b[39m\"\u001b[39m\u001b[39m.\u001b[39m\u001b[39m\"\u001b[39m)\n\u001b[0;32m    987\u001b[0m \u001b[39mif\u001b[39;00m sys\u001b[39m.\u001b[39mplatform \u001b[39m==\u001b[39m \u001b[39m'\u001b[39m\u001b[39mdarwin\u001b[39m\u001b[39m'\u001b[39m:\n",
      "File \u001b[1;32mc:\\Users\\User\\AppData\\Local\\Programs\\Python\\Python311\\Lib\\site-packages\\pyautogui\\__init__.py:1509\u001b[0m, in \u001b[0;36m_mouseMoveDrag\u001b[1;34m(moveOrDrag, x, y, xOffset, yOffset, duration, tween, button)\u001b[0m\n\u001b[0;32m   1506\u001b[0m         \u001b[39mraise\u001b[39;00m \u001b[39mNotImplementedError\u001b[39;00m(\u001b[39m\"\u001b[39m\u001b[39mUnknown value of moveOrDrag: \u001b[39m\u001b[39m{0}\u001b[39;00m\u001b[39m\"\u001b[39m\u001b[39m.\u001b[39mformat(moveOrDrag))\n\u001b[0;32m   1508\u001b[0m \u001b[39mif\u001b[39;00m (tweenX, tweenY) \u001b[39mnot\u001b[39;00m \u001b[39min\u001b[39;00m FAILSAFE_POINTS:\n\u001b[1;32m-> 1509\u001b[0m     failSafeCheck()\n",
      "File \u001b[1;32mc:\\Users\\User\\AppData\\Local\\Programs\\Python\\Python311\\Lib\\site-packages\\pyautogui\\__init__.py:1722\u001b[0m, in \u001b[0;36mfailSafeCheck\u001b[1;34m()\u001b[0m\n\u001b[0;32m   1720\u001b[0m \u001b[39mdef\u001b[39;00m \u001b[39mfailSafeCheck\u001b[39m():\n\u001b[0;32m   1721\u001b[0m     \u001b[39mif\u001b[39;00m FAILSAFE \u001b[39mand\u001b[39;00m \u001b[39mtuple\u001b[39m(position()) \u001b[39min\u001b[39;00m FAILSAFE_POINTS:\n\u001b[1;32m-> 1722\u001b[0m         \u001b[39mraise\u001b[39;00m FailSafeException(\n\u001b[0;32m   1723\u001b[0m             \u001b[39m\"\u001b[39m\u001b[39mPyAutoGUI fail-safe triggered from mouse moving to a corner of the screen. To disable this fail-safe, set pyautogui.FAILSAFE to False. DISABLING FAIL-SAFE IS NOT RECOMMENDED.\u001b[39m\u001b[39m\"\u001b[39m\n\u001b[0;32m   1724\u001b[0m         )\n",
      "\u001b[1;31mFailSafeException\u001b[0m: PyAutoGUI fail-safe triggered from mouse moving to a corner of the screen. To disable this fail-safe, set pyautogui.FAILSAFE to False. DISABLING FAIL-SAFE IS NOT RECOMMENDED."
     ]
    }
   ],
   "source": [
    "#Team Viewer\n",
    "pyautogui.leftClick(fct.resolution_scale(\"2520,1120\"))\n",
    "time.sleep(5)\n",
    "pyautogui.leftClick(1536,792)"
   ]
  },
  {
   "attachments": {},
   "cell_type": "markdown",
   "metadata": {},
   "source": [
    "# Main"
   ]
  },
  {
   "cell_type": "code",
   "execution_count": 2,
   "metadata": {},
   "outputs": [
    {
     "name": "stdout",
     "output_type": "stream",
     "text": [
      "Looking For launch/reset.png\n"
     ]
    }
   ],
   "source": [
    "reload(fct)\n",
    "list_map=[\"Lighting\",\"Air\",\"Brazier\",\"Greed\" ,\"Wanderer\",\"Plague\",\"Shepherd\",\"Flash\",\"Cycle\"]#,,\n",
    "\n",
    "fct.launch_remote_desk()\n",
    "      \n",
    "perso=Perso(num_perso=3,region_map=True)\n",
    "alchimie=fct.alchimie.Alchimie(wave,perso.num_perso,T9_up=True,blue_charm=True,rare_charm=False)\n",
    "if perso.num_perso==1:\n",
    "    perso.region_map=True\n",
    "    \n",
    "while 1:\n",
    "    if not perso.is_raid_time([15.35,19.15],[7.45,11.10]) and fct.launch_tower(wave,perso.num_perso):\n",
    "        name_map=perso.launch_map()\n",
    "        if name_map: \n",
    "            perso.run_map(name_map,wave)\n",
    "            fct.se_vider(sell=True)\n",
    "            alchimie.run()\n",
    "    else:\n",
    "        fct.close_game()\n",
    "        for i in range(60*5): time.sleep(1)"
   ]
  },
  {
   "attachments": {},
   "cell_type": "markdown",
   "metadata": {},
   "source": [
    "## test"
   ]
  },
  {
   "cell_type": "code",
   "execution_count": 99,
   "metadata": {},
   "outputs": [
    {
     "name": "stdout",
     "output_type": "stream",
     "text": [
      "Looking For alchimie/atelier.png\n",
      "Looking For alchimie/atelier_vide.png\n",
      "Looking For alchimie/atelier.png\n",
      "Looking For alchimie/atelier.png\n"
     ]
    }
   ],
   "source": [
    "reload(fct)\n",
    "time.sleep(1)\n",
    "#fct.close_game(\"no go tower\",perso.num_perso)\n",
    "alchimie=fct.alchimie.Alchimie(wave,perso.num_perso,T9_up=False,blue_charm=True,rare_charm=False)\n",
    "alchimie.run()"
   ]
  },
  {
   "cell_type": "code",
   "execution_count": 27,
   "metadata": {},
   "outputs": [],
   "source": [
    "#Team Viewer\n",
    "time.sleep(1)\n",
    "pyautogui.leftClick(fct.resolution_scale(\"2320,20\"))"
   ]
  },
  {
   "cell_type": "code",
   "execution_count": 3,
   "metadata": {},
   "outputs": [
    {
     "data": {
      "text/plain": [
       "(1280, 720)"
      ]
     },
     "execution_count": 3,
     "metadata": {},
     "output_type": "execute_result"
    }
   ],
   "source": [
    "a=(pyautogui.size().width,pyautogui.size().height)\n",
    "a"
   ]
  },
  {
   "cell_type": "code",
   "execution_count": 49,
   "metadata": {},
   "outputs": [
    {
     "data": {
      "text/plain": [
       "False"
      ]
     },
     "execution_count": 49,
     "metadata": {},
     "output_type": "execute_result"
    }
   ],
   "source": [
    "a,b=False,False\n",
    "a"
   ]
  },
  {
   "cell_type": "code",
   "execution_count": 6,
   "metadata": {},
   "outputs": [],
   "source": [
    "time.sleep(1)\n",
    "pyautogui.write(\"total\")"
   ]
  },
  {
   "cell_type": "code",
   "execution_count": 65,
   "metadata": {},
   "outputs": [
    {
     "name": "stdout",
     "output_type": "stream",
     "text": [
      "                   "
     ]
    }
   ],
   "source": [
    "i=0\n",
    "start_time = time.perf_counter()\n",
    "while time.perf_counter()-start_time < fct.time_run(200,200):\n",
    "    find = pyautogui.locateOnScreen(f'screen/map/ennemi.png', confidence=0.8,grayscale=True)\n",
    "    if find:\n",
    "        print(1,end='')\n",
    "    else:\n",
    "        print(\" \",end=\"\")\n",
    "    i+=1\n",
    "    if i ==150: \n",
    "        print(i)\n",
    "        i=0"
   ]
  },
  {
   "cell_type": "code",
   "execution_count": 58,
   "metadata": {},
   "outputs": [
    {
     "name": "stdout",
     "output_type": "stream",
     "text": [
      "                 Code execution took 2.658209 seconds\n"
     ]
    }
   ],
   "source": [
    "\n",
    "i=0 \n",
    "for j in range(int(27/1.54)):\n",
    "    if pyautogui.position()[0]< -11100:\n",
    "        print(i,end=\" \")\n",
    "        time.sleep(0.9)\n",
    "    find = pyautogui.locateOnScreen(f'screen/map/ennemi.png', confidence=0.8,grayscale=True)\n",
    "    if find:\n",
    "        print(1,end='')\n",
    "    else:\n",
    "        print(\" \",end=\"\")\n",
    "    i+=1\n",
    "    if i ==150: \n",
    "        print(i)\n",
    "        i=0 \n",
    "# Get the end time\n",
    "end_time = time.perf_counter()\n",
    "\n",
    "\n",
    "\n",
    "# Print the elapsed time\n",
    "print(f'Code execution took {elapsed_time:.6f} seconds')"
   ]
  },
  {
   "cell_type": "code",
   "execution_count": 355,
   "metadata": {},
   "outputs": [
    {
     "data": {
      "text/plain": [
       "148"
      ]
     },
     "execution_count": 355,
     "metadata": {},
     "output_type": "execute_result"
    }
   ],
   "source": [
    "\n",
    "    \n",
    "    \n",
    "time_run(1400,1250)"
   ]
  },
  {
   "cell_type": "code",
   "execution_count": 298,
   "metadata": {},
   "outputs": [],
   "source": [
    "time.sleep(1)\n",
    "pyautogui.moveTo(2400,1050)\n",
    "for i in range(0,12):\n",
    "    pyautogui.scroll(-3000)\n"
   ]
  },
  {
   "cell_type": "code",
   "execution_count": 113,
   "metadata": {},
   "outputs": [],
   "source": [
    "forname_mapin list_map:\n",
    "        find = pyautogui.locateOnScreen(f'screen/map/{m}.png', confidence=0.98)\n",
    "        if find:\n",
    "            pyautogui.rightClick( pyautogui.center(find))\n",
    "            print(pyautogui.screenshot().getpixel((2171+25,394+53)))\n",
    "        elif 1:  \n",
    "            find=fct.find_blue(f'screen/map/{m}_b.png')\n",
    "            if find: \n",
    "                pyautogui.rightClick( pyautogui.center(find))\n",
    "                print(pyautogui.screenshot().getpixel((2171+25,394+53)))\n",
    "            #quest journa\n",
    "            if os.path.exists(f'screen/map/{m}_bq.png'):\n",
    "                find=fct.find_blue(f'screen/map/{m}_bq.png')\n",
    "                if find: \n",
    "                    pyautogui.rightClick( pyautogui.center(find))\n",
    "                    print(pyautogui.screenshot().getpixel((2171+25,394+53)))"
   ]
  },
  {
   "cell_type": "code",
   "execution_count": 354,
   "metadata": {},
   "outputs": [
    {
     "data": {
      "text/plain": [
       "1"
      ]
     },
     "execution_count": 354,
     "metadata": {},
     "output_type": "execute_result"
    }
   ],
   "source": [
    "4.3\n"
   ]
  },
  {
   "cell_type": "code",
   "execution_count": 44,
   "metadata": {},
   "outputs": [
    {
     "name": "stdout",
     "output_type": "stream",
     "text": [
      "1\n"
     ]
    }
   ],
   "source": [
    "if pyautogui.locateOnScreen(f'screen/launch/ok_map.png',confidence=0.7):print(1)"
   ]
  },
  {
   "cell_type": "code",
   "execution_count": 115,
   "metadata": {},
   "outputs": [
    {
     "name": "stdout",
     "output_type": "stream",
     "text": [
      "(25, 26, 41)\n",
      "(47, 40, 19)\n",
      "(54, 37, 16)\n"
     ]
    }
   ],
   "source": [
    "print(pyautogui.screenshot().getpixel((i[0]+i[2]-5,i[1]+i[3]-5)))\n",
    "print(pyautogui.screenshot().getpixel((2069+25,394+53)))\n",
    "print(pyautogui.screenshot().getpixel((2171+25,394+53)))\n"
   ]
  },
  {
   "cell_type": "code",
   "execution_count": 116,
   "metadata": {},
   "outputs": [
    {
     "name": "stdout",
     "output_type": "stream",
     "text": [
      "Box(left=1960, top=493, width=63, height=38)\n",
      "(22, 22, 33)\n",
      "Box(left=2062, top=493, width=63, height=38)\n",
      "(26, 27, 40)\n",
      "Box(left=2163, top=493, width=63, height=38)\n",
      "(25, 25, 36)\n",
      "Box(left=2265, top=493, width=63, height=38)\n",
      "(24, 24, 35)\n",
      "Box(left=2366, top=493, width=63, height=38)\n",
      "(28, 28, 41)\n",
      "Box(left=1960, top=593, width=63, height=38)\n",
      "(21, 22, 35)\n",
      "Box(left=2062, top=593, width=63, height=38)\n",
      "(28, 28, 45)\n",
      "Box(left=2163, top=593, width=63, height=38)\n",
      "(26, 26, 37)\n",
      "Box(left=2265, top=593, width=63, height=38)\n",
      "(25, 25, 38)\n",
      "Box(left=2366, top=593, width=63, height=38)\n",
      "(27, 28, 43)\n",
      "Box(left=1960, top=694, width=63, height=38)\n",
      "(25, 26, 41)\n"
     ]
    }
   ],
   "source": [
    "find = pyautogui.locateAllOnScreen(f'screen/map/Plague_b.png', confidence=0.99)\n",
    "for i in find:\n",
    "    print(i)\n",
    "    print(pyautogui.screenshot().getpixel((i[0]+i[2]-5,i[1]+i[3]-5)))\n",
    "    "
   ]
  },
  {
   "attachments": {},
   "cell_type": "markdown",
   "metadata": {},
   "source": [
    "## test dps"
   ]
  },
  {
   "cell_type": "code",
   "execution_count": 2,
   "metadata": {},
   "outputs": [
    {
     "name": "stdout",
     "output_type": "stream",
     "text": [
      "[1, 0.7, 0.48999999999999994, 0.3429999999999999, 0.24009999999999992, 0.16806999999999994]\n",
      "La somme des éléments de la suite est : 2.3529359999999997\n"
     ]
    }
   ],
   "source": [
    "# Initialisation de la variable qui contiendra la suite\n",
    "suite = [1]\n",
    "\n",
    "# Initialisation de la variable qui contiendra la somme\n",
    "somme = 1\n",
    "\n",
    "# Boucle pour générer les éléments de la suite\n",
    "for i in range(1,6):\n",
    "    # Calcul de l'élément suivant en décrémentant de 15%\n",
    "    element = suite[i-1] * (0.7)\n",
    "    # Ajout de l'élément à la suite\n",
    "    suite.append(element)\n",
    "    # Ajout de l'élément à la somme\n",
    "    somme += element\n",
    "\n",
    "# Affichage de la suite\n",
    "print(suite)\n",
    "\n",
    "# Affichage de la somme\n",
    "print(\"La somme des éléments de la suite est :\", somme*0.8)\n"
   ]
  },
  {
   "cell_type": "code",
   "execution_count": 213,
   "metadata": {},
   "outputs": [
    {
     "data": {
      "text/plain": [
       "1.4705882352941175"
      ]
     },
     "execution_count": 213,
     "metadata": {},
     "output_type": "execute_result"
    }
   ],
   "source": [
    "2/1.36"
   ]
  },
  {
   "cell_type": "code",
   "execution_count": 6,
   "metadata": {},
   "outputs": [
    {
     "data": {
      "text/plain": [
       "1.1587771203155819"
      ]
     },
     "execution_count": 6,
     "metadata": {},
     "output_type": "execute_result"
    }
   ],
   "source": [
    "2.35/(1.2*1.3*1.3)\n"
   ]
  },
  {
   "cell_type": "code",
   "execution_count": null,
   "metadata": {},
   "outputs": [],
   "source": []
  },
  {
   "attachments": {},
   "cell_type": "markdown",
   "metadata": {},
   "source": [
    "## ACTE 10"
   ]
  },
  {
   "cell_type": "code",
   "execution_count": 283,
   "metadata": {},
   "outputs": [],
   "source": [
    "def run_acte_4_and_10(wave,retry=True,run_time=0):\n",
    "    if retry:run_time=time.perf_counter()\n",
    "    end=False\n",
    "    fct.prepar_run(2)\n",
    "    #run\n",
    "    \n",
    "    for i,n in enumerate(wave[\"Air_1\"]):\n",
    "        if pd.isna(n) :\n",
    "            break\n",
    "        x,y=re.findall(r'\\d+',n)\n",
    "        x=int(x)\n",
    "        y=int(y)\n",
    "        #perso2\n",
    "        if i%5==0 :\n",
    "            fct.keyboard('q',0.9)\n",
    "        \n",
    "        if not fct.clik_move_map(x,y):\n",
    "            fct.clik_move_map(x,y)\n",
    "            \n",
    "        #pause entre deux points\n",
    "        timer_move = fct.timer.Timer( fct.time_run(x,y)*1.1  )\n",
    "        while timer_move.is_running():time.sleep(0.05)\n",
    "        if fct.death():\n",
    "            time.sleep(26)\n",
    "            return False \n",
    "    \n",
    "    fct.escape()\n",
    "    time.sleep(4)\n",
    "    pyautogui.leftClick(900,626,duration=0.3)\n",
    "    fct.keyboard('f')\n",
    "    pyautogui.leftClick(1150,626,duration=0.3)\n",
    "    time.sleep(7)\n",
    "    if fct.in_city():\n",
    "        return True \n",
    "    \n",
    "        \n",
    "    time.sleep(4)\n",
    "    fct.leave_map()\n",
    "    time.sleep(2.5)\n",
    "    return True"
   ]
  },
  {
   "cell_type": "code",
   "execution_count": 312,
   "metadata": {},
   "outputs": [
    {
     "name": "stdout",
     "output_type": "stream",
     "text": [
      "Looking For launch/reset.png\n",
      "Looking For launch/ok.png\n",
      "60 end_pause\n",
      "Looking For launch/reset.png\n",
      "Looking For launch/normal.png\n",
      "Looking For launch/rare.png\n",
      "Looking For launch/normal.png\n",
      "Looking For launch/rare.png\n",
      "Looking For launch/ok.png\n",
      "Looking For launch/croix.png\n",
      "Looking For launch/reset.png\n",
      "Looking For launch/storage.png\n",
      "Looking For launch/reset.png\n",
      "Looking For launch/reset.png\n",
      "Looking For launch/normal.png\n",
      "Looking For launch/magic.png\n",
      "Looking For launch/rare.png\n",
      "Looking For launch/normal.png\n",
      "Looking For launch/magic.png\n",
      "Looking For launch/rare.png\n",
      "Looking For launch/ok.png\n",
      "Looking For launch/croix.png\n",
      "Looking For launch/reset.png\n",
      "Looking For launch/storage.png\n",
      "Looking For launch/reset.png\n",
      "Looking For launch/reset.png\n",
      "Looking For launch/normal.png\n",
      "Looking For launch/magic.png\n",
      "Looking For launch/rare.png\n",
      "Looking For launch/normal.png\n",
      "Looking For launch/magic.png\n",
      "Looking For launch/rare.png\n",
      "Looking For launch/ok.png\n",
      "Looking For launch/reset.png\n",
      "Looking For launch/storage.png\n",
      "Looking For launch/reset.png\n",
      "Looking For launch/reset.png\n",
      "Looking For launch/normal.png\n",
      "Looking For launch/magic.png\n",
      "Looking For launch/rare.png\n",
      "Looking For launch/normal.png\n",
      "Looking For launch/magic.png\n",
      "Looking For launch/rare.png\n",
      "Looking For launch/ok.png\n",
      "Looking For launch/croix.png\n",
      "Looking For launch/reset.png\n",
      "Looking For launch/storage.png\n",
      "Looking For launch/reset.png\n",
      "Looking For launch/reset.png\n",
      "Looking For launch/normal.png\n",
      "Looking For launch/magic.png\n",
      "Looking For launch/rare.png\n",
      "Looking For launch/normal.png\n",
      "Looking For launch/magic.png\n",
      "Looking For launch/rare.png\n",
      "Looking For launch/ok.png\n",
      "Looking For launch/reset.png\n",
      "Looking For launch/storage.png\n",
      "Looking For launch/reset.png\n",
      "Looking For launch/reset.png\n",
      "Looking For launch/normal.png\n",
      "Looking For launch/magic.png\n",
      "Looking For launch/rare.png\n",
      "Looking For launch/normal.png\n",
      "Looking For launch/magic.png\n",
      "Looking For launch/rare.png\n",
      "Looking For launch/ok.png\n",
      "Looking For launch/croix.png\n",
      "Looking For launch/reset.png\n",
      "Looking For launch/storage.png\n",
      "Looking For launch/reset.png\n",
      "Looking For launch/reset.png\n",
      "Looking For launch/normal.png\n",
      "Looking For launch/magic.png\n",
      "Looking For launch/rare.png\n",
      "Looking For launch/normal.png\n",
      "Looking For launch/magic.png\n",
      "Looking For launch/rare.png\n",
      "Looking For launch/ok.png\n",
      "Looking For launch/croix.png\n",
      "Looking For launch/reset.png\n",
      "Looking For launch/storage.png\n",
      "Looking For launch/reset.png\n",
      "Looking For launch/reset.png\n",
      "Looking For launch/normal.png\n",
      "Looking For launch/magic.png\n",
      "Looking For launch/rare.png\n",
      "Looking For launch/normal.png\n",
      "Looking For launch/magic.png\n",
      "Looking For launch/rare.png\n",
      "Looking For launch/ok.png\n",
      "Looking For launch/croix.png\n",
      "Looking For launch/reset.png\n",
      "Looking For launch/storage.png\n",
      "Looking For launch/reset.png\n",
      "Looking For launch/ok.png\n",
      "Looking For launch/reset.png\n",
      "Looking For launch/reset.png\n",
      "Looking For launch/ok.png\n",
      "Looking For launch/reset.png\n",
      "Looking For launch/reset.png\n",
      "Looking For launch/ok.png\n",
      "Looking For launch/reset.png\n"
     ]
    },
    {
     "ename": "KeyboardInterrupt",
     "evalue": "",
     "output_type": "error",
     "traceback": [
      "\u001b[1;31m---------------------------------------------------------------------------\u001b[0m",
      "\u001b[1;31mKeyboardInterrupt\u001b[0m                         Traceback (most recent call last)",
      "Cell \u001b[1;32mIn[312], line 17\u001b[0m\n\u001b[0;32m     15\u001b[0m time\u001b[39m.\u001b[39msleep(\u001b[39m1.5\u001b[39m)\n\u001b[0;32m     16\u001b[0m pyautogui\u001b[39m.\u001b[39mleftClick(\u001b[39m1020\u001b[39m,\u001b[39m1200\u001b[39m,duration\u001b[39m=\u001b[39m\u001b[39m0.3\u001b[39m)\n\u001b[1;32m---> 17\u001b[0m time\u001b[39m.\u001b[39msleep(\u001b[39m1.5\u001b[39m)\n\u001b[0;32m     18\u001b[0m pyautogui\u001b[39m.\u001b[39mleftClick(\u001b[39m750\u001b[39m,\u001b[39m727\u001b[39m,duration\u001b[39m=\u001b[39m\u001b[39m0.3\u001b[39m)\n\u001b[0;32m     19\u001b[0m time\u001b[39m.\u001b[39msleep(\u001b[39m1.5\u001b[39m)\n",
      "\u001b[1;31mKeyboardInterrupt\u001b[0m: "
     ]
    }
   ],
   "source": [
    "#ACTE10\n",
    "#perso=Perso(3,False)\n",
    "reload(fct)\n",
    "#cpt_no_go_map=0\n",
    "while 1:\n",
    "    fct.go_waypoint()\n",
    "    fct.take_waypoint()\n",
    "    pyautogui.leftClick(1053,1005,duration=0.3)\n",
    "    pyautogui.leftClick(1900,900,duration=0.3)\n",
    "    fct.click_icone('screen/launch/ok.png')\n",
    "    fct.click_icone('screen/launch/reset.png')\n",
    "    time.sleep(1.5)\n",
    "    pyautogui.leftClick(1300,1400,duration=0.2)\n",
    "    pyautogui.leftClick(1020,1200,duration=0.3)\n",
    "    time.sleep(1.5)\n",
    "    pyautogui.leftClick(1020,1200,duration=0.3)\n",
    "    time.sleep(1.5)\n",
    "    pyautogui.leftClick(750,727,duration=0.3)\n",
    "    time.sleep(1.5)\n",
    "    #Acte4\n",
    "    pyautogui.leftClick(450,927,duration=0.3)\n",
    "    #Acte10\n",
    "    #pyautogui.leftClick(600,900,duration=0.3)\n",
    "    fct.keyboard('f')\n",
    "    time.sleep(5)\n",
    "    #cpt_no_go_map+=1\n",
    "    #if cpt_no_go_map==10: break\n",
    "    \n",
    "    if fct.in_map():\n",
    "        #cpt_no_go_map=0\n",
    "        \n",
    "        run_acte_4_and_10(wave)\n",
    "        #se vider\n",
    "        if fct.in_city():\n",
    "            if fct.go_blacksmith()==False:\n",
    "                fct.go_blacksmith()\n",
    "        time.sleep(0.5)\n",
    "        if fct.go_waypoint() :\n",
    "            fct.click_icone('screen/launch/icone_storage_acte10.png')\n",
    "            time.sleep(3)\n",
    "            fct.click_icone('screen/launch/storage.png',1)\n",
    "            fct.click_icone('screen/launch/storage_clear.png',1)\n",
    "            fct.click_icone('screen/launch/croix.png')\n",
    "            time.sleep(0.5)    \n",
    "        for i in range(np.random.randint(30, 120)):time.sleep(1)\n",
    "        \n",
    "        \n",
    "\n",
    "    "
   ]
  },
  {
   "attachments": {},
   "cell_type": "markdown",
   "metadata": {},
   "source": [
    "## ACTE 11"
   ]
  },
  {
   "cell_type": "code",
   "execution_count": 51,
   "metadata": {},
   "outputs": [],
   "source": [
    "def run_acte_11(wave):\n",
    "    fct.prepar_run(1)    \n",
    "    for i,point in enumerate(wave[\"Shepherd_1\"]):\n",
    "        if pd.isna(point) :\n",
    "            break\n",
    "        x,y=map(int,re.findall(r'\\d+',point))\n",
    "        #perso2\n",
    "        \"\"\" if i%5==0 :\n",
    "            fct.keyboard('a',0.9)\"\"\"\n",
    "        \n",
    "        if not fct.clik_move_map(x,y):\n",
    "            fct.clik_move_map(x,y)\n",
    "            \n",
    "        #pause entre deux points\n",
    "        timer_move = fct.timer.Timer( fct.time_run(x,y)*1  )\n",
    "        while timer_move.is_running():time.sleep(0.05)\n",
    "        if fct.death():\n",
    "            time.sleep(26)\n",
    "            return False     \n",
    "        \n",
    "    time.sleep(4)\n",
    "    fct.leave_map()\n",
    "    time.sleep(2.5)\n",
    "    return True"
   ]
  },
  {
   "cell_type": "code",
   "execution_count": 54,
   "metadata": {},
   "outputs": [
    {
     "name": "stdout",
     "output_type": "stream",
     "text": [
      "Looking For launch/reset.png\n",
      "Looking For launch/ok.png\n",
      "Looking For map/aura_1.png\n"
     ]
    },
    {
     "ename": "KeyboardInterrupt",
     "evalue": "",
     "output_type": "error",
     "traceback": [
      "\u001b[1;31m---------------------------------------------------------------------------\u001b[0m",
      "\u001b[1;31mKeyboardInterrupt\u001b[0m                         Traceback (most recent call last)",
      "Cell \u001b[1;32mIn[54], line 24\u001b[0m\n\u001b[0;32m     18\u001b[0m \u001b[39m#cpt_no_go_map+=1\u001b[39;00m\n\u001b[0;32m     19\u001b[0m \u001b[39m#if cpt_no_go_map==10: break\u001b[39;00m\n\u001b[0;32m     21\u001b[0m \u001b[39mif\u001b[39;00m fct\u001b[39m.\u001b[39min_map():\n\u001b[0;32m     22\u001b[0m     \u001b[39m#cpt_no_go_map=0\u001b[39;00m\n\u001b[1;32m---> 24\u001b[0m     run_acte_11(wave)\n\u001b[0;32m     25\u001b[0m     \u001b[39m#se vider\u001b[39;00m\n\u001b[0;32m     26\u001b[0m     \u001b[39mif\u001b[39;00m fct\u001b[39m.\u001b[39min_city():\n",
      "Cell \u001b[1;32mIn[51], line 16\u001b[0m, in \u001b[0;36mrun_acte_11\u001b[1;34m(wave)\u001b[0m\n\u001b[0;32m     14\u001b[0m \u001b[39m#pause entre deux points\u001b[39;00m\n\u001b[0;32m     15\u001b[0m timer_move \u001b[39m=\u001b[39m fct\u001b[39m.\u001b[39mtimer\u001b[39m.\u001b[39mTimer( fct\u001b[39m.\u001b[39mtime_run(x,y)\u001b[39m*\u001b[39m\u001b[39m1\u001b[39m  )\n\u001b[1;32m---> 16\u001b[0m \u001b[39mwhile\u001b[39;00m timer_move\u001b[39m.\u001b[39mis_running():time\u001b[39m.\u001b[39msleep(\u001b[39m0.05\u001b[39m)\n\u001b[0;32m     17\u001b[0m \u001b[39mif\u001b[39;00m fct\u001b[39m.\u001b[39mdeath():\n\u001b[0;32m     18\u001b[0m     time\u001b[39m.\u001b[39msleep(\u001b[39m26\u001b[39m)\n",
      "\u001b[1;31mKeyboardInterrupt\u001b[0m: "
     ]
    }
   ],
   "source": [
    "reload(fct)\n",
    "time.sleep(2)\n",
    "while 1:\n",
    "    timer_by_run = fct.timer.Timer( 60*7.3  )\n",
    "    fct.go_waypoint()\n",
    "    fct.take_waypoint()\n",
    "    pyautogui.leftClick(1528,692,duration=0.3)\n",
    "    #fct.click_icone('screen/Acte/Acte11_map.png')\n",
    "    pyautogui.leftClick(1010,900,duration=0.3)\n",
    "    fct.click_icone('screen/launch/ok.png')\n",
    "    fct.click_icone('screen/Acte/move.png')\n",
    "    \n",
    "    time.sleep(10)\n",
    "    fct.escape()\n",
    "    \n",
    "    fct.keyboard('f')\n",
    "    time.sleep(5)\n",
    "    #cpt_no_go_map+=1\n",
    "    #if cpt_no_go_map==10: break\n",
    "    \n",
    "    if fct.in_map():\n",
    "        #cpt_no_go_map=0\n",
    "        \n",
    "        run_acte_11(wave)\n",
    "        #se vider\n",
    "        if fct.in_city():\n",
    "            fct.se_vider(sell=True)\n",
    "        time.sleep(0.5)\n",
    "        if fct.go_waypoint() :\n",
    "            fct.click_icone('screen/launch/icone_storage_acte10.png')\n",
    "            time.sleep(3)\n",
    "            fct.click_icone('screen/launch/storage.png',1)\n",
    "            fct.click_icone('screen/launch/storage_clear.png',1)\n",
    "            fct.click_icone('screen/launch/croix.png')\n",
    "            time.sleep(0.5)    \n",
    "        while timer_by_run.is_running():time.sleep(1)\n",
    "        \n",
    "        "
   ]
  }
 ],
 "metadata": {
  "kernelspec": {
   "display_name": "Python 3",
   "language": "python",
   "name": "python3"
  },
  "language_info": {
   "codemirror_mode": {
    "name": "ipython",
    "version": 3
   },
   "file_extension": ".py",
   "mimetype": "text/x-python",
   "name": "python",
   "nbconvert_exporter": "python",
   "pygments_lexer": "ipython3",
   "version": "3.11.2"
  },
  "orig_nbformat": 4,
  "vscode": {
   "interpreter": {
    "hash": "ebfc0a8d552866b0d59eba665220a57de3bc06f3ac643b8bef38dd8f66781fdd"
   }
  }
 },
 "nbformat": 4,
 "nbformat_minor": 2
}

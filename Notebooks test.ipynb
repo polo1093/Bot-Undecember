{
 "cells": [
  {
   "attachments": {},
   "cell_type": "markdown",
   "metadata": {},
   "source": [
    "# Déclaration"
   ]
  },
  {
   "cell_type": "code",
   "execution_count": 202,
   "metadata": {},
   "outputs": [],
   "source": [
    "from importlib import reload\n",
    "import numpy as np\n",
    "import time\n",
    "\n",
    "import pyautogui\n",
    "import pydirectinput\n",
    "import pandas as pd\n",
    "import re\n",
    "import keyboard\n",
    "import os\n",
    "import PIL \n",
    "import datetime\n",
    "import math\n",
    "import cv2\n",
    "import numpy\n",
    "import fct\n",
    "reload(fct)\n",
    "\n",
    "\n",
    "\n",
    "wave=pd.read_csv('wave.csv')\n",
    "\n",
    "reload(fct)\n",
    "\n",
    "region={\"Wanderer\": \"Aphros\",\n",
    "        \"Plague\" :  \"Ortemis\",\n",
    "        \"Flash\" :   \"Caspol\",\n",
    "        \"Pirate\":   \"Ganida\",\n",
    "        \"Hammer\":   \"Eunos\",\n",
    "        \"Brazier\":  \"Tipan\",\n",
    "        \"Air\":      \"Stra\",\n",
    "        \"Shepherd\": \"Laia\",\n",
    "        \"Greed\":    \"\",\n",
    "        \"Lighting\": \"Hira\",\n",
    "        \"Cycle\":    \"Nemera\"}\n",
    "\n",
    "\n",
    "class Perso():\n",
    "    def __init__(self,num_perso=2,blue_map=True,raid=False):\n",
    "        self.actif=True\n",
    "        self.num_perso=num_perso\n",
    "        self.test_in_game()\n",
    "        self.blue_map=blue_map\n",
    "        self.actif_raid=raid\n",
    "    \n",
    "                    \n",
    "    def filtre_map(self):\n",
    "        fct.click_icone('screen/launch/start_filtre.png')\n",
    "        fct.click_icone('screen/launch/filtre_apply.png',1)\n",
    "        fct.click_icone('screen/launch/select_all.png',2)\n",
    "        fct.click_icone('screen/launch/select_all.png',2)\n",
    "        \n",
    "        fct.click_icone('screen/map/Ganida.png',5,0.3,False)\n",
    "        fct.click_icone('screen/map/Aphros.png',5,0.3,False)\n",
    "        fct.fct.click_icone('screen/map/Ortemis.png',5,0.3,False)\n",
    "        \n",
    "        fct.click_icone('screen/launch/tier10.png',1)\n",
    "        fct.click_icone('screen/launch/ok.png',10,0.3,False,0.7)\n",
    "        self.actif=True\n",
    "        \n",
    "    def test_in_game(self):\n",
    "        path1=f'screen/launch/test_in_game.png'\n",
    "        if pyautogui.locateOnScreen(path1, grayscale=False, confidence=0.95) is None :\n",
    "            if pyautogui.locateOnScreen(f'screen/launch/in_tower.png',grayscale=True,confidence=0.9) is None :\n",
    "                if fct.launch(self.num_perso) is False:\n",
    "                        fct.close_game(\"test_in_game\")\n",
    "\n",
    "             \n",
    "    def launch_map(self):\n",
    "        \n",
    "        for i in range(3):\n",
    "            pyautogui.moveTo(2400,1050)\n",
    "            for i in range(0,28):\n",
    "                pyautogui.scroll(-3000)\n",
    "            pyautogui.moveTo(1300,700)\n",
    "            time.sleep(1)\n",
    "            for m in list_map:\n",
    "                find = pyautogui.locateOnScreen(f'screen/map/{m}.png', confidence=0.96)\n",
    "                if find:\n",
    "                    pyautogui.rightClick( pyautogui.center(find))\n",
    "                    break\n",
    "                elif self.blue_map:  \n",
    "                    find=fct.find_blue(f'screen/map/{m}_b.png')\n",
    "                    if find: \n",
    "                        pyautogui.rightClick( pyautogui.center(find))\n",
    "                        break\n",
    "                    #quest journa\n",
    "                    if os.path.exists(f'screen/map/{m}_bq.png'):\n",
    "                        find=fct.find_blue(f'screen/map/{m}_bq.png')\n",
    "                        if find: \n",
    "                            pyautogui.rightClick( pyautogui.center(find))\n",
    "                            break\n",
    "            if find: break\n",
    "\n",
    "            \n",
    "        time.sleep(1)\n",
    "        fct.click_icone('screen/launch/activate.png',3,0.3,False,0.8)\n",
    "        time.sleep(1)\n",
    "        if fct.click_icone('screen/launch/croix.png',1):\n",
    "            time.sleep(1)\n",
    "            return False\n",
    "        if fct.go_map(wave)==False:\n",
    "            return False\n",
    "        fct.click_icone('screen/launch/waypoint.png',1)#à cause ges map jaunes\n",
    "        return m\n",
    "    \n",
    "    def run_map(self,m,wave,retry=True,ancien_run=1):\n",
    "        for i in range(10):\n",
    "            if fct.in_map():break\n",
    "            time.sleep(1)\n",
    "        fct.click_icone('screen/launch/tab_map.png',1)\n",
    "        pyautogui.moveTo(700,700)\n",
    "        time.sleep(0.2)\n",
    "        name=m\n",
    "        for i in range(10):\n",
    "            if pyautogui.locateOnScreen(f'screen/map/{m}_1.png',confidence=0.85-(i*0.01)):\n",
    "                name+= '_1'\n",
    "                break\n",
    "            elif pyautogui.locateOnScreen(f'screen/map/{m}_2.png',confidence=0.85-(i*0.01)):\n",
    "                name= m + '_2'\n",
    "                break\n",
    "            elif i==9:\n",
    "                print(\"erreur début de map\")\n",
    "                name=fct.error_start_map(list_map)\n",
    "                if name==False:\n",
    "                    fct.leave_map()\n",
    "                    return False\n",
    "                print(f\"map récupére {name}\")\n",
    "                break\n",
    "            time.sleep(1)\n",
    "        end=False\n",
    "        cpt=0\n",
    "        fct.prepar_run(self.num_perso)\n",
    "        #run\n",
    "        start_gold=time.perf_counter()\n",
    "        for i,n in enumerate(wave[name]):\n",
    "            if pd.isna(n) :\n",
    "                break\n",
    "            x,y=re.findall(r'\\d+',n)\n",
    "            x=int(x)\n",
    "            y=int(y)\n",
    "            #perso2\n",
    "            if self.num_perso==1:time.sleep(1)\n",
    "            if i%5==0 and self.num_perso==2:\n",
    "                fct.keyboard('q',0.9)\n",
    "            \n",
    "            if not fct.clik_move_map(x,y):\n",
    "                fct.clik_move_map(x,y)\n",
    "                \n",
    "            #pause entre deux points\n",
    "            start_time = time.perf_counter()\n",
    "            time_wait=fct.time_run(x,y)*1.2 if self.num_perso==1 else fct.time_run(x,y)\n",
    "            while time.perf_counter()-start_time < time_wait:\n",
    "                #test pause utilisateur    \n",
    "                if pyautogui.position()[0]< 0:\n",
    "                    print(i,end=\" \")\n",
    "                    time.sleep(0.9)\n",
    "                    while not keyboard.is_pressed('+'):\n",
    "                        time.sleep(0.05)\n",
    "                    fct.keyboard('q',0.2)\n",
    "                    print(\"end_pause\")\n",
    "                    pyautogui.doubleClick(1200,1400)\n",
    "                    start_gold=time.perf_counter()\n",
    "                    if self.num_perso ==2:\n",
    "                        fct.keyboard('q',0.7)\n",
    "                                 \n",
    "                #test ennemi found\n",
    "                if pyautogui.locateOnScreen(f'screen/map/ennemi.png',region=[1850,920,1900,1210],confidence=0.7,grayscale=True):\n",
    "                    start_gold=time.perf_counter()\n",
    "                if time.perf_counter()-start_gold>50 and (retry==True or ancien_run==2): \n",
    "                    print(\"no gold found\")\n",
    "                    end=True\n",
    "                    break\n",
    "            if end:break\n",
    "            if fct.death():return False \n",
    "               \n",
    "        if not fct.kill_boss(wave[name[:-2]+'_boss'],retry,self.num_perso):\n",
    "            if retry:\n",
    "                fct.escape()\n",
    "                self.run_map(name[:-2],wave,False,int(name[-1]))\n",
    "\n",
    "        \n",
    "            \n"
   ]
  },
  {
   "attachments": {},
   "cell_type": "markdown",
   "metadata": {},
   "source": [
    "## Enregistrement"
   ]
  },
  {
   "cell_type": "code",
   "execution_count": 83,
   "metadata": {},
   "outputs": [
    {
     "name": "stdout",
     "output_type": "stream",
     "text": [
      "1964,1169\n",
      "1964,1169\n",
      "1948,1307\n",
      "2004,1388\n",
      "1719,1267\n",
      "1891,1291\n",
      "1891,1291\n",
      "952,1207\n",
      "581,1285\n",
      "581,1285\n",
      "974,488\n",
      "343,367\n",
      "533,949\n",
      "305,979\n",
      "346,564\n",
      "330,700\n",
      "576,321\n",
      "1638,248\n",
      "970,209\n",
      "596,256\n",
      "403,367\n",
      "695,230\n",
      "422,614\n",
      "546,1161\n",
      "546,1161\n",
      "650,1183\n",
      "512,1287\n",
      "580,1274\n",
      "1917,1251\n",
      "1917,1251\n",
      "549,1302\n",
      "549,1302\n",
      "549,1302\n",
      "549,1302\n",
      "549,1302\n",
      "591,1353\n",
      "684,1145\n",
      "1531,1215\n",
      "1615,1232\n",
      "1939,1292\n",
      "1957,1279\n",
      "1970,976\n",
      "2069,1134\n",
      "2069,1134\n",
      "1895,1316\n",
      "2240,1177\n",
      "2297,916\n",
      "1675,217\n",
      "1516,185\n",
      "1437,179\n",
      "847,245\n",
      "1208,171\n",
      "1208,171\n",
      "-1027,370\n"
     ]
    },
    {
     "ename": "KeyboardInterrupt",
     "evalue": "",
     "output_type": "error",
     "traceback": [
      "\u001b[1;31m---------------------------------------------------------------------------\u001b[0m",
      "\u001b[1;31mKeyboardInterrupt\u001b[0m                         Traceback (most recent call last)",
      "Cell \u001b[1;32mIn[83], line 17\u001b[0m\n\u001b[0;32m     14\u001b[0m \u001b[39mif\u001b[39;00m \u001b[39m1\u001b[39m:\n\u001b[0;32m     16\u001b[0m     time\u001b[39m.\u001b[39msleep(\u001b[39m0.2\u001b[39m)\n\u001b[1;32m---> 17\u001b[0m     fct\u001b[39m.\u001b[39;49mkeyboard(\u001b[39m'\u001b[39;49m\u001b[39mq\u001b[39;49m\u001b[39m'\u001b[39;49m,\u001b[39m0.7\u001b[39;49m)\n\u001b[0;32m     18\u001b[0m     time\u001b[39m.\u001b[39msleep(\u001b[39m1\u001b[39m)\n\u001b[0;32m     20\u001b[0m \u001b[39mif\u001b[39;00m \u001b[39mnot\u001b[39;00m fct\u001b[39m.\u001b[39mclik_move_map(x,y): \n",
      "File \u001b[1;32mc:\\Users\\polo\\Pictures\\Cours Info\\Bot trading\\Undecember\\fct.py:153\u001b[0m, in \u001b[0;36mkeyboard\u001b[1;34m(key, press, end)\u001b[0m\n\u001b[0;32m    151\u001b[0m \u001b[39mdef\u001b[39;00m \u001b[39mkeyboard\u001b[39m(key,press\u001b[39m=\u001b[39m\u001b[39m0.5\u001b[39m,end\u001b[39m=\u001b[39m\u001b[39m0.5\u001b[39m):\n\u001b[0;32m    152\u001b[0m     pydirectinput\u001b[39m.\u001b[39mkeyDown(key)\n\u001b[1;32m--> 153\u001b[0m     time\u001b[39m.\u001b[39msleep(np\u001b[39m.\u001b[39mrandom\u001b[39m.\u001b[39muniform(press\u001b[39m*\u001b[39m\u001b[39m0.8\u001b[39m, press\u001b[39m*\u001b[39m\u001b[39m1.2\u001b[39m))\n\u001b[0;32m    154\u001b[0m     pydirectinput\u001b[39m.\u001b[39mkeyUp(key)\n\u001b[0;32m    155\u001b[0m     time\u001b[39m.\u001b[39msleep(np\u001b[39m.\u001b[39mrandom\u001b[39m.\u001b[39muniform(end\u001b[39m*\u001b[39m\u001b[39m0.8\u001b[39m, end\u001b[39m*\u001b[39m\u001b[39m1.2\u001b[39m))\n",
      "\u001b[1;31mKeyboardInterrupt\u001b[0m: "
     ]
    }
   ],
   "source": [
    "pyautogui.leftClick(1200,1400)\n",
    "time.sleep(0.5)\n",
    "pyautogui.leftClick(1200,1400)\n",
    "\n",
    "while 1:\n",
    "    \"\"\"    while not keyboard.is_pressed('space'):\n",
    "        time.sleep(0.1)              \n",
    "        \"\"\"\n",
    "    time.sleep(2.7)\n",
    "    x,y=pyautogui.position()\n",
    "    print(f'{x},{y}')        \n",
    "     \n",
    "     \n",
    "    if 1:\n",
    "       \n",
    "        time.sleep(0.2)\n",
    "        fct.keyboard('q',0.7)\n",
    "        time.sleep(1)\n",
    "       \n",
    "    if not fct.clik_move_map(x,y): \n",
    "        fct.clik_move_map(x,y)\n",
    "\n",
    "    \n"
   ]
  },
  {
   "attachments": {},
   "cell_type": "markdown",
   "metadata": {},
   "source": [
    "## Parcours un colonne"
   ]
  },
  {
   "cell_type": "code",
   "execution_count": 21,
   "metadata": {},
   "outputs": [
    {
     "name": "stdout",
     "output_type": "stream",
     "text": [
      "1\n",
      "0 1 2 3 4 5 6 7 8 9 10 11 12 13 14 15 16 17 18 19 20 21 22 23 24 25 26 27 28 29 30 31 1\n",
      "32 33 34 35 36 37 1\n",
      "38 39 40 41 42 43 44 45 46 47 48 49 50 51 52 53 54 55 56 57 58 59 60 61 62 63 64 65 66 67 68 69 70 71 72 73 74 75 76 77 78 79 80 81 82 83 84 85 86 "
     ]
    },
    {
     "ename": "KeyboardInterrupt",
     "evalue": "",
     "output_type": "error",
     "traceback": [
      "\u001b[1;31m---------------------------------------------------------------------------\u001b[0m",
      "\u001b[1;31mKeyboardInterrupt\u001b[0m                         Traceback (most recent call last)",
      "Cell \u001b[1;32mIn[21], line 7\u001b[0m\n\u001b[0;32m      4\u001b[0m pyautogui\u001b[39m.\u001b[39mleftClick(\u001b[39m1200\u001b[39m,\u001b[39m1400\u001b[39m)\n\u001b[0;32m      6\u001b[0m \u001b[39mwhile\u001b[39;00m \u001b[39m1\u001b[39m:\n\u001b[1;32m----> 7\u001b[0m     time\u001b[39m.\u001b[39msleep(\u001b[39m2.5\u001b[39m)\n\u001b[0;32m      8\u001b[0m     wave\u001b[39m=\u001b[39mpd\u001b[39m.\u001b[39mread_csv(\u001b[39m'\u001b[39m\u001b[39mwave.csv\u001b[39m\u001b[39m'\u001b[39m)\n\u001b[0;32m      9\u001b[0m     n\u001b[39m=\u001b[39mwave\u001b[39m.\u001b[39mloc[cpt,\u001b[39m\"\u001b[39m\u001b[39mLighting_1\u001b[39m\u001b[39m\"\u001b[39m]\n",
      "\u001b[1;31mKeyboardInterrupt\u001b[0m: "
     ]
    }
   ],
   "source": [
    "cpt=0\n",
    "pyautogui.leftClick(1200,1400)\n",
    "time.sleep(0.5)\n",
    "pyautogui.leftClick(1200,1400)\n",
    "\n",
    "while 1:\n",
    "    time.sleep(2.5)\n",
    "    wave=pd.read_csv('wave.csv')\n",
    "    n=wave.loc[cpt,\"Lighting_1\"]\n",
    "    if pd.isna(n) == False:\n",
    "        n=re.findall(r'\\d+',n)\n",
    "        if cpt%5==0:\n",
    "            time.sleep(0.2)\n",
    "            fct.keyboard('q',0.5)\n",
    "            time.sleep(1)\n",
    "            \n",
    "           \n",
    "        if not fct.clik_move_map(int(n[0]),int(n[1])):\n",
    "            print(1)\n",
    "            if not fct.clik_move_map(int(n[0]),int(n[1])):\n",
    "                print(2)\n",
    "                \n",
    "                fct.clik_move_map(int(n[0]),int(n[1]))\n",
    "       \n",
    "        print(cpt,end=' ')\n",
    "        cpt+=1"
   ]
  },
  {
   "cell_type": "code",
   "execution_count": 89,
   "metadata": {},
   "outputs": [
    {
     "name": "stdout",
     "output_type": "stream",
     "text": [
      "Looking For launch/tab_map.png\n",
      "no gold found\n"
     ]
    }
   ],
   "source": [
    "import fct\n",
    "reload(fct)\n",
    "time.sleep(2)\n",
    "m='Cycle'\n",
    "\n",
    "perso=Perso(2,raid=False)\n",
    "perso.run_map(m,wave)\n"
   ]
  },
  {
   "cell_type": "code",
   "execution_count": 442,
   "metadata": {},
   "outputs": [
    {
     "data": {
      "text/plain": [
       "['Air', 'Plague', 'Brazier', 'Greed', 'Hammer', 'Wanderer', 'Flash']"
      ]
     },
     "execution_count": 442,
     "metadata": {},
     "output_type": "execute_result"
    }
   ],
   "source": [
    "reload(fct)\n",
    "fct.raid([18.45,20])\n",
    "list_map"
   ]
  },
  {
   "attachments": {},
   "cell_type": "markdown",
   "metadata": {},
   "source": [
    "# Main"
   ]
  },
  {
   "cell_type": "code",
   "execution_count": 318,
   "metadata": {},
   "outputs": [
    {
     "name": "stdout",
     "output_type": "stream",
     "text": [
      "Looking For launch/reset.png\n",
      "Looking For launch/croix.png\n",
      "Looking For launch/reset.png\n",
      "Looking For launch/waypoint.png\n",
      "Looking For launch/tab_map.png\n",
      "Looking For launch/reset.png\n",
      "Looking For launch/normal.png\n",
      "Looking For launch/magic.png\n",
      "Looking For launch/rare.png\n",
      "Looking For launch/normal.png\n",
      "Looking For launch/magic.png\n",
      "Looking For launch/rare.png\n",
      "Looking For launch/ok.png\n",
      "Looking For launch/croix.png\n",
      "Looking For launch/reset.png\n",
      "Looking For launch/storage.png\n",
      "Looking For launch/reset.png\n",
      "Looking For launch/reset.png\n",
      "Looking For launch/dungeon.png\n",
      "Looking For launch/croix.png\n",
      "Looking For launch/reset.png\n",
      "Looking For launch/waypoint.png\n",
      "Looking For launch/tab_map.png\n",
      "no gold found\n",
      "Looking For launch/boss.png\n",
      "Looking For launch/tab_map.png\n",
      "no gold found\n",
      "Looking For launch/boss.png\n"
     ]
    },
    {
     "ename": "KeyboardInterrupt",
     "evalue": "",
     "output_type": "error",
     "traceback": [
      "\u001b[1;31m---------------------------------------------------------------------------\u001b[0m",
      "\u001b[1;31mKeyboardInterrupt\u001b[0m                         Traceback (most recent call last)",
      "Cell \u001b[1;32mIn[318], line 12\u001b[0m\n\u001b[0;32m     10\u001b[0m m\u001b[39m=\u001b[39mperso\u001b[39m.\u001b[39mlaunch_map()\n\u001b[0;32m     11\u001b[0m \u001b[39mif\u001b[39;00m m: \n\u001b[1;32m---> 12\u001b[0m     perso\u001b[39m.\u001b[39;49mrun_map(m,wave)\n\u001b[0;32m     13\u001b[0m     fct\u001b[39m.\u001b[39mse_vider()\n\u001b[0;32m     14\u001b[0m     fct\u001b[39m.\u001b[39malchimie(wave,perso\u001b[39m.\u001b[39mnum_perso)\n",
      "Cell \u001b[1;32mIn[202], line 180\u001b[0m, in \u001b[0;36mPerso.run_map\u001b[1;34m(self, m, wave, retry, ancien_run)\u001b[0m\n\u001b[0;32m    178\u001b[0m \u001b[39mif\u001b[39;00m retry:\n\u001b[0;32m    179\u001b[0m     fct\u001b[39m.\u001b[39mescape()\n\u001b[1;32m--> 180\u001b[0m     \u001b[39mself\u001b[39;49m\u001b[39m.\u001b[39;49mrun_map(name[:\u001b[39m-\u001b[39;49m\u001b[39m2\u001b[39;49m],wave,\u001b[39mFalse\u001b[39;49;00m,\u001b[39mint\u001b[39;49m(name[\u001b[39m-\u001b[39;49m\u001b[39m1\u001b[39;49m]))\n",
      "Cell \u001b[1;32mIn[202], line 177\u001b[0m, in \u001b[0;36mPerso.run_map\u001b[1;34m(self, m, wave, retry, ancien_run)\u001b[0m\n\u001b[0;32m    174\u001b[0m     \u001b[39mif\u001b[39;00m end:\u001b[39mbreak\u001b[39;00m\n\u001b[0;32m    175\u001b[0m     \u001b[39mif\u001b[39;00m fct\u001b[39m.\u001b[39mdeath():\u001b[39mreturn\u001b[39;00m \u001b[39mFalse\u001b[39;00m \n\u001b[1;32m--> 177\u001b[0m \u001b[39mif\u001b[39;00m \u001b[39mnot\u001b[39;00m fct\u001b[39m.\u001b[39;49mkill_boss(wave[name[:\u001b[39m-\u001b[39;49m\u001b[39m2\u001b[39;49m]\u001b[39m+\u001b[39;49m\u001b[39m'\u001b[39;49m\u001b[39m_boss\u001b[39;49m\u001b[39m'\u001b[39;49m],retry,\u001b[39mself\u001b[39;49m\u001b[39m.\u001b[39;49mnum_perso):\n\u001b[0;32m    178\u001b[0m     \u001b[39mif\u001b[39;00m retry:\n\u001b[0;32m    179\u001b[0m         fct\u001b[39m.\u001b[39mescape()\n",
      "File \u001b[1;32mc:\\Users\\polo\\Pictures\\Cours Info\\Bot trading\\Undecember\\fct.py:336\u001b[0m, in \u001b[0;36mkill_boss\u001b[1;34m(trajet, retry, num_perso)\u001b[0m\n\u001b[0;32m    333\u001b[0m \u001b[39mif\u001b[39;00m retry:\n\u001b[0;32m    334\u001b[0m     \u001b[39m# en recommence la map si on ne peut pas invoquer le boss\u001b[39;00m\n\u001b[0;32m    335\u001b[0m     \u001b[39mreturn\u001b[39;00m \u001b[39mFalse\u001b[39;00m\n\u001b[1;32m--> 336\u001b[0m leave_map()\n\u001b[0;32m    337\u001b[0m \u001b[39mreturn\u001b[39;00m \u001b[39mTrue\u001b[39;00m\n",
      "File \u001b[1;32mc:\\Users\\polo\\Pictures\\Cours Info\\Bot trading\\Undecember\\fct.py:345\u001b[0m, in \u001b[0;36mleave_map\u001b[1;34m(retry)\u001b[0m\n\u001b[0;32m    342\u001b[0m     start_time \u001b[39m=\u001b[39m time\u001b[39m.\u001b[39mperf_counter()\n\u001b[0;32m    343\u001b[0m     \u001b[39mwhile\u001b[39;00m pyautogui\u001b[39m.\u001b[39mlocateOnScreen(\u001b[39mf\u001b[39m\u001b[39m'\u001b[39m\u001b[39mscreen/map/scroll_cooldown.png\u001b[39m\u001b[39m'\u001b[39m,region\u001b[39m=\u001b[39m[\u001b[39m700\u001b[39m,\u001b[39m1354\u001b[39m,\u001b[39m722\u001b[39m,\u001b[39m1416\u001b[39m],confidence\u001b[39m=\u001b[39m\u001b[39m0.8\u001b[39m,grayscale\u001b[39m=\u001b[39m\u001b[39mTrue\u001b[39;00m) \\\n\u001b[0;32m    344\u001b[0m     \u001b[39mand\u001b[39;00m time\u001b[39m.\u001b[39mperf_counter()\u001b[39m-\u001b[39mstart_time \u001b[39m<\u001b[39m\u001b[39m60\u001b[39m\u001b[39m*\u001b[39m\u001b[39m9\u001b[39m:\n\u001b[1;32m--> 345\u001b[0m         time\u001b[39m.\u001b[39;49msleep(\u001b[39m1\u001b[39;49m)\n\u001b[0;32m    346\u001b[0m     \u001b[39mfor\u001b[39;00m i \u001b[39min\u001b[39;00m \u001b[39mrange\u001b[39m(\u001b[39m61\u001b[39m):time\u001b[39m.\u001b[39msleep(\u001b[39m1\u001b[39m)\n\u001b[0;32m    347\u001b[0m \u001b[39mif\u001b[39;00m pyautogui\u001b[39m.\u001b[39mlocateOnScreen(\u001b[39mf\u001b[39m\u001b[39m'\u001b[39m\u001b[39mscreen/map/scroll.png\u001b[39m\u001b[39m'\u001b[39m,confidence\u001b[39m=\u001b[39m\u001b[39m0.9\u001b[39m,grayscale\u001b[39m=\u001b[39m\u001b[39mTrue\u001b[39;00m) \\\n\u001b[0;32m    348\u001b[0m     \u001b[39mor\u001b[39;00m pyautogui\u001b[39m.\u001b[39mlocateOnScreen(\u001b[39mf\u001b[39m\u001b[39m'\u001b[39m\u001b[39mscreen/map/exit.png\u001b[39m\u001b[39m'\u001b[39m,confidence\u001b[39m=\u001b[39m\u001b[39m0.9\u001b[39m,grayscale\u001b[39m=\u001b[39m\u001b[39mTrue\u001b[39;00m) :\n",
      "\u001b[1;31mKeyboardInterrupt\u001b[0m: "
     ]
    }
   ],
   "source": [
    "reload(fct)\n",
    "list_map=[\"Lighting\",\"Air\",\"Brazier\",\"Greed\" ,\"Wanderer\",\"Flash\"]#,,\"Plague\",\"Cycle\",\n",
    "      \n",
    "perso=Perso(2,raid=False)\n",
    "if perso.num_perso==1:list_map=list_map[::-1]#inversion de la liste\n",
    "#if perso.num_perso==2:list_map=list_map[:-1]\n",
    "while 1:\n",
    "    if not(fct.raid([15.35,19.15],[9.30,11.15]) and perso.actif_raid) \\\n",
    "    and fct.launch_tower(wave,perso.num_perso):\n",
    "        m=perso.launch_map()\n",
    "        if m: \n",
    "            perso.run_map(m,wave)\n",
    "            fct.se_vider()\n",
    "            fct.alchimie(wave,perso.num_perso)\n",
    "    else:\n",
    "        fct.close_game()\n",
    "        for i in range(60*15): time.sleep(1)"
   ]
  },
  {
   "attachments": {},
   "cell_type": "markdown",
   "metadata": {},
   "source": [
    "# test"
   ]
  },
  {
   "cell_type": "code",
   "execution_count": 320,
   "metadata": {},
   "outputs": [
    {
     "name": "stdout",
     "output_type": "stream",
     "text": [
      "Looking For launch/ok.png\n"
     ]
    },
    {
     "data": {
      "text/plain": [
       "True"
      ]
     },
     "execution_count": 320,
     "metadata": {},
     "output_type": "execute_result"
    }
   ],
   "source": [
    "reload(fct)\n",
    "time.sleep(1)\n",
    "#fct.close_game(\"no go tower\",perso.num_perso)\n",
    "fct.raid([16.45,18.45],[9.45,11.15])\n",
    "fct.leave_map()"
   ]
  },
  {
   "cell_type": "code",
   "execution_count": 145,
   "metadata": {},
   "outputs": [
    {
     "data": {
      "text/plain": [
       "True"
      ]
     },
     "execution_count": 145,
     "metadata": {},
     "output_type": "execute_result"
    }
   ],
   "source": [
    "fct.in_city()"
   ]
  },
  {
   "cell_type": "code",
   "execution_count": null,
   "metadata": {},
   "outputs": [],
   "source": []
  },
  {
   "cell_type": "code",
   "execution_count": null,
   "metadata": {},
   "outputs": [],
   "source": []
  },
  {
   "cell_type": "code",
   "execution_count": null,
   "metadata": {},
   "outputs": [],
   "source": []
  },
  {
   "cell_type": "code",
   "execution_count": 65,
   "metadata": {},
   "outputs": [
    {
     "name": "stdout",
     "output_type": "stream",
     "text": [
      "                   "
     ]
    }
   ],
   "source": [
    "i=0\n",
    "start_time = time.perf_counter()\n",
    "while time.perf_counter()-start_time < fct.time_run(200,200):\n",
    "    find = pyautogui.locateOnScreen(f'screen/map/ennemi.png', confidence=0.8,grayscale=True)\n",
    "    if find:\n",
    "        print(1,end='')\n",
    "    else:\n",
    "        print(\" \",end=\"\")\n",
    "    i+=1\n",
    "    if i ==150: \n",
    "        print(i)\n",
    "        i=0"
   ]
  },
  {
   "cell_type": "code",
   "execution_count": 58,
   "metadata": {},
   "outputs": [
    {
     "name": "stdout",
     "output_type": "stream",
     "text": [
      "                 Code execution took 2.658209 seconds\n"
     ]
    }
   ],
   "source": [
    "\n",
    "i=0 \n",
    "for j in range(int(27/1.54)):\n",
    "    if pyautogui.position()[0]< -11100:\n",
    "        print(i,end=\" \")\n",
    "        time.sleep(0.9)\n",
    "    find = pyautogui.locateOnScreen(f'screen/map/ennemi.png', confidence=0.8,grayscale=True)\n",
    "    if find:\n",
    "        print(1,end='')\n",
    "    else:\n",
    "        print(\" \",end=\"\")\n",
    "    i+=1\n",
    "    if i ==150: \n",
    "        print(i)\n",
    "        i=0 \n",
    "# Get the end time\n",
    "end_time = time.perf_counter()\n",
    "\n",
    "\n",
    "\n",
    "# Print the elapsed time\n",
    "print(f'Code execution took {elapsed_time:.6f} seconds')"
   ]
  },
  {
   "cell_type": "code",
   "execution_count": 355,
   "metadata": {},
   "outputs": [
    {
     "data": {
      "text/plain": [
       "148"
      ]
     },
     "execution_count": 355,
     "metadata": {},
     "output_type": "execute_result"
    }
   ],
   "source": [
    "\n",
    "    \n",
    "    \n",
    "time_run(1400,1250)"
   ]
  },
  {
   "cell_type": "code",
   "execution_count": 298,
   "metadata": {},
   "outputs": [],
   "source": [
    "time.sleep(1)\n",
    "pyautogui.moveTo(2400,1050)\n",
    "for i in range(0,12):\n",
    "    pyautogui.scroll(-3000)\n"
   ]
  },
  {
   "cell_type": "code",
   "execution_count": 113,
   "metadata": {},
   "outputs": [],
   "source": [
    "for m in list_map:\n",
    "        find = pyautogui.locateOnScreen(f'screen/map/{m}.png', confidence=0.98)\n",
    "        if find:\n",
    "            pyautogui.rightClick( pyautogui.center(find))\n",
    "            print(pyautogui.screenshot().getpixel((2171+25,394+53)))\n",
    "        elif 1:  \n",
    "            find=fct.find_blue(f'screen/map/{m}_b.png')\n",
    "            if find: \n",
    "                pyautogui.rightClick( pyautogui.center(find))\n",
    "                print(pyautogui.screenshot().getpixel((2171+25,394+53)))\n",
    "            #quest journa\n",
    "            if os.path.exists(f'screen/map/{m}_bq.png'):\n",
    "                find=fct.find_blue(f'screen/map/{m}_bq.png')\n",
    "                if find: \n",
    "                    pyautogui.rightClick( pyautogui.center(find))\n",
    "                    print(pyautogui.screenshot().getpixel((2171+25,394+53)))"
   ]
  },
  {
   "cell_type": "code",
   "execution_count": 354,
   "metadata": {},
   "outputs": [
    {
     "data": {
      "text/plain": [
       "1"
      ]
     },
     "execution_count": 354,
     "metadata": {},
     "output_type": "execute_result"
    }
   ],
   "source": [
    "4.3\n"
   ]
  },
  {
   "cell_type": "code",
   "execution_count": 44,
   "metadata": {},
   "outputs": [
    {
     "name": "stdout",
     "output_type": "stream",
     "text": [
      "1\n"
     ]
    }
   ],
   "source": [
    "if pyautogui.locateOnScreen(f'screen/launch/ok_map.png',confidence=0.7):print(1)"
   ]
  },
  {
   "cell_type": "code",
   "execution_count": 115,
   "metadata": {},
   "outputs": [
    {
     "name": "stdout",
     "output_type": "stream",
     "text": [
      "(25, 26, 41)\n",
      "(47, 40, 19)\n",
      "(54, 37, 16)\n"
     ]
    }
   ],
   "source": [
    "print(pyautogui.screenshot().getpixel((i[0]+i[2]-5,i[1]+i[3]-5)))\n",
    "print(pyautogui.screenshot().getpixel((2069+25,394+53)))\n",
    "print(pyautogui.screenshot().getpixel((2171+25,394+53)))\n"
   ]
  },
  {
   "cell_type": "code",
   "execution_count": 116,
   "metadata": {},
   "outputs": [
    {
     "name": "stdout",
     "output_type": "stream",
     "text": [
      "Box(left=1960, top=493, width=63, height=38)\n",
      "(22, 22, 33)\n",
      "Box(left=2062, top=493, width=63, height=38)\n",
      "(26, 27, 40)\n",
      "Box(left=2163, top=493, width=63, height=38)\n",
      "(25, 25, 36)\n",
      "Box(left=2265, top=493, width=63, height=38)\n",
      "(24, 24, 35)\n",
      "Box(left=2366, top=493, width=63, height=38)\n",
      "(28, 28, 41)\n",
      "Box(left=1960, top=593, width=63, height=38)\n",
      "(21, 22, 35)\n",
      "Box(left=2062, top=593, width=63, height=38)\n",
      "(28, 28, 45)\n",
      "Box(left=2163, top=593, width=63, height=38)\n",
      "(26, 26, 37)\n",
      "Box(left=2265, top=593, width=63, height=38)\n",
      "(25, 25, 38)\n",
      "Box(left=2366, top=593, width=63, height=38)\n",
      "(27, 28, 43)\n",
      "Box(left=1960, top=694, width=63, height=38)\n",
      "(25, 26, 41)\n"
     ]
    }
   ],
   "source": [
    "find = pyautogui.locateAllOnScreen(f'screen/map/Plague_b.png', confidence=0.99)\n",
    "for i in find:\n",
    "    print(i)\n",
    "    print(pyautogui.screenshot().getpixel((i[0]+i[2]-5,i[1]+i[3]-5)))\n",
    "    "
   ]
  },
  {
   "attachments": {},
   "cell_type": "markdown",
   "metadata": {},
   "source": [
    "### test dps"
   ]
  },
  {
   "cell_type": "code",
   "execution_count": 313,
   "metadata": {},
   "outputs": [
    {
     "name": "stdout",
     "output_type": "stream",
     "text": [
      "[1, 0.9, 0.81, 0.7290000000000001, 0.6561000000000001, 0.5904900000000002, 0.5314410000000002, 0.47829690000000014]\n",
      "La somme des éléments de la suite est : 1082.1123010000001\n"
     ]
    }
   ],
   "source": [
    "# Initialisation de la variable qui contiendra la suite\n",
    "suite = [1]\n",
    "\n",
    "# Initialisation de la variable qui contiendra la somme\n",
    "somme = 1\n",
    "\n",
    "# Boucle pour générer les éléments de la suite\n",
    "for i in range(1,8):\n",
    "    # Calcul de l'élément suivant en décrémentant de 15%\n",
    "    element = suite[i-1] * (0.90)\n",
    "    # Ajout de l'élément à la suite\n",
    "    suite.append(element)\n",
    "    # Ajout de l'élément à la somme\n",
    "    somme += element\n",
    "\n",
    "# Affichage de la suite\n",
    "print(suite)\n",
    "\n",
    "# Affichage de la somme\n",
    "print(\"La somme des éléments de la suite est :\", somme*190)\n"
   ]
  },
  {
   "cell_type": "code",
   "execution_count": 314,
   "metadata": {},
   "outputs": [
    {
     "data": {
      "text/plain": [
       "945.0"
      ]
     },
     "execution_count": 314,
     "metadata": {},
     "output_type": "execute_result"
    }
   ],
   "source": [
    "750*1.26\n"
   ]
  },
  {
   "cell_type": "code",
   "execution_count": null,
   "metadata": {},
   "outputs": [],
   "source": []
  },
  {
   "cell_type": "code",
   "execution_count": null,
   "metadata": {},
   "outputs": [],
   "source": []
  },
  {
   "cell_type": "code",
   "execution_count": null,
   "metadata": {},
   "outputs": [],
   "source": []
  },
  {
   "attachments": {},
   "cell_type": "markdown",
   "metadata": {},
   "source": [
    "### ACTE 10"
   ]
  },
  {
   "cell_type": "code",
   "execution_count": 283,
   "metadata": {},
   "outputs": [],
   "source": [
    "def run_acte(wave,retry=True,run_time=0):\n",
    "    if retry:run_time=time.perf_counter()\n",
    "    end=False\n",
    "    fct.prepar_run(2)\n",
    "    #run\n",
    "    \n",
    "    for i,n in enumerate(wave[\"Air_1\"]):\n",
    "        if pd.isna(n) :\n",
    "            break\n",
    "        x,y=re.findall(r'\\d+',n)\n",
    "        x=int(x)\n",
    "        y=int(y)\n",
    "        #perso2\n",
    "        if i%5==0 :\n",
    "            fct.keyboard('q',0.9)\n",
    "        \n",
    "        if not fct.clik_move_map(x,y):\n",
    "            fct.clik_move_map(x,y)\n",
    "            \n",
    "        #pause entre deux points\n",
    "        start_time = time.perf_counter()\n",
    "        time_wait=fct.time_run(x,y) #*1.2\n",
    "        while time.perf_counter()-start_time < time_wait:\n",
    "            #test pause utilisateur    \n",
    "            if pyautogui.position()[0]< 0:\n",
    "                print(i,end=\" \")\n",
    "                time.sleep(0.9)\n",
    "                while not keyboard.is_pressed('+'):\n",
    "                    time.sleep(0.05)\n",
    "                fct.keyboard('q',0.2)\n",
    "                print(\"end_pause\")\n",
    "                pyautogui.doubleClick(1200,1400)\n",
    "                fct.keyboard('q',0.7)\n",
    "                                \n",
    "            #test ennemi found\n",
    "            if pyautogui.locateOnScreen(f'screen/map/ennemi.png',region=[1850,920,1900,1210],confidence=0.7,grayscale=True):\n",
    "                start_gold=time.perf_counter()\n",
    "        if fct.death():\n",
    "            time.sleep(26)\n",
    "            return False \n",
    "    \n",
    "    fct.escape()\n",
    "    time.sleep(4)\n",
    "    pyautogui.leftClick(900,626,duration=0.3)\n",
    "    fct.keyboard('f')\n",
    "    pyautogui.leftClick(1150,626,duration=0.3)\n",
    "    time.sleep(7)\n",
    "    if fct.in_city():\n",
    "        return True \n",
    "    \n",
    "        \n",
    "    time.sleep(4)\n",
    "    fct.leave_map()\n",
    "    time.sleep(2.5)\n",
    "    return True"
   ]
  },
  {
   "cell_type": "code",
   "execution_count": 312,
   "metadata": {},
   "outputs": [
    {
     "name": "stdout",
     "output_type": "stream",
     "text": [
      "Looking For launch/reset.png\n",
      "Looking For launch/ok.png\n",
      "60 end_pause\n",
      "Looking For launch/reset.png\n",
      "Looking For launch/normal.png\n",
      "Looking For launch/rare.png\n",
      "Looking For launch/normal.png\n",
      "Looking For launch/rare.png\n",
      "Looking For launch/ok.png\n",
      "Looking For launch/croix.png\n",
      "Looking For launch/reset.png\n",
      "Looking For launch/storage.png\n",
      "Looking For launch/reset.png\n",
      "Looking For launch/reset.png\n",
      "Looking For launch/normal.png\n",
      "Looking For launch/magic.png\n",
      "Looking For launch/rare.png\n",
      "Looking For launch/normal.png\n",
      "Looking For launch/magic.png\n",
      "Looking For launch/rare.png\n",
      "Looking For launch/ok.png\n",
      "Looking For launch/croix.png\n",
      "Looking For launch/reset.png\n",
      "Looking For launch/storage.png\n",
      "Looking For launch/reset.png\n",
      "Looking For launch/reset.png\n",
      "Looking For launch/normal.png\n",
      "Looking For launch/magic.png\n",
      "Looking For launch/rare.png\n",
      "Looking For launch/normal.png\n",
      "Looking For launch/magic.png\n",
      "Looking For launch/rare.png\n",
      "Looking For launch/ok.png\n",
      "Looking For launch/reset.png\n",
      "Looking For launch/storage.png\n",
      "Looking For launch/reset.png\n",
      "Looking For launch/reset.png\n",
      "Looking For launch/normal.png\n",
      "Looking For launch/magic.png\n",
      "Looking For launch/rare.png\n",
      "Looking For launch/normal.png\n",
      "Looking For launch/magic.png\n",
      "Looking For launch/rare.png\n",
      "Looking For launch/ok.png\n",
      "Looking For launch/croix.png\n",
      "Looking For launch/reset.png\n",
      "Looking For launch/storage.png\n",
      "Looking For launch/reset.png\n",
      "Looking For launch/reset.png\n",
      "Looking For launch/normal.png\n",
      "Looking For launch/magic.png\n",
      "Looking For launch/rare.png\n",
      "Looking For launch/normal.png\n",
      "Looking For launch/magic.png\n",
      "Looking For launch/rare.png\n",
      "Looking For launch/ok.png\n",
      "Looking For launch/reset.png\n",
      "Looking For launch/storage.png\n",
      "Looking For launch/reset.png\n",
      "Looking For launch/reset.png\n",
      "Looking For launch/normal.png\n",
      "Looking For launch/magic.png\n",
      "Looking For launch/rare.png\n",
      "Looking For launch/normal.png\n",
      "Looking For launch/magic.png\n",
      "Looking For launch/rare.png\n",
      "Looking For launch/ok.png\n",
      "Looking For launch/croix.png\n",
      "Looking For launch/reset.png\n",
      "Looking For launch/storage.png\n",
      "Looking For launch/reset.png\n",
      "Looking For launch/reset.png\n",
      "Looking For launch/normal.png\n",
      "Looking For launch/magic.png\n",
      "Looking For launch/rare.png\n",
      "Looking For launch/normal.png\n",
      "Looking For launch/magic.png\n",
      "Looking For launch/rare.png\n",
      "Looking For launch/ok.png\n",
      "Looking For launch/croix.png\n",
      "Looking For launch/reset.png\n",
      "Looking For launch/storage.png\n",
      "Looking For launch/reset.png\n",
      "Looking For launch/reset.png\n",
      "Looking For launch/normal.png\n",
      "Looking For launch/magic.png\n",
      "Looking For launch/rare.png\n",
      "Looking For launch/normal.png\n",
      "Looking For launch/magic.png\n",
      "Looking For launch/rare.png\n",
      "Looking For launch/ok.png\n",
      "Looking For launch/croix.png\n",
      "Looking For launch/reset.png\n",
      "Looking For launch/storage.png\n",
      "Looking For launch/reset.png\n",
      "Looking For launch/ok.png\n",
      "Looking For launch/reset.png\n",
      "Looking For launch/reset.png\n",
      "Looking For launch/ok.png\n",
      "Looking For launch/reset.png\n",
      "Looking For launch/reset.png\n",
      "Looking For launch/ok.png\n",
      "Looking For launch/reset.png\n"
     ]
    },
    {
     "ename": "KeyboardInterrupt",
     "evalue": "",
     "output_type": "error",
     "traceback": [
      "\u001b[1;31m---------------------------------------------------------------------------\u001b[0m",
      "\u001b[1;31mKeyboardInterrupt\u001b[0m                         Traceback (most recent call last)",
      "Cell \u001b[1;32mIn[312], line 17\u001b[0m\n\u001b[0;32m     15\u001b[0m time\u001b[39m.\u001b[39msleep(\u001b[39m1.5\u001b[39m)\n\u001b[0;32m     16\u001b[0m pyautogui\u001b[39m.\u001b[39mleftClick(\u001b[39m1020\u001b[39m,\u001b[39m1200\u001b[39m,duration\u001b[39m=\u001b[39m\u001b[39m0.3\u001b[39m)\n\u001b[1;32m---> 17\u001b[0m time\u001b[39m.\u001b[39msleep(\u001b[39m1.5\u001b[39m)\n\u001b[0;32m     18\u001b[0m pyautogui\u001b[39m.\u001b[39mleftClick(\u001b[39m750\u001b[39m,\u001b[39m727\u001b[39m,duration\u001b[39m=\u001b[39m\u001b[39m0.3\u001b[39m)\n\u001b[0;32m     19\u001b[0m time\u001b[39m.\u001b[39msleep(\u001b[39m1.5\u001b[39m)\n",
      "\u001b[1;31mKeyboardInterrupt\u001b[0m: "
     ]
    }
   ],
   "source": [
    "#ACTE10\n",
    "#perso=Perso(3,False)\n",
    "reload(fct)\n",
    "#cpt_no_go_map=0\n",
    "while 1:\n",
    "    fct.go_waypoint()\n",
    "    fct.take_waypoint()\n",
    "    pyautogui.leftClick(1053,1005,duration=0.3)\n",
    "    pyautogui.leftClick(1900,900,duration=0.3)\n",
    "    fct.click_icone('screen/launch/ok.png')\n",
    "    fct.click_icone('screen/launch/reset.png')\n",
    "    time.sleep(1.5)\n",
    "    pyautogui.leftClick(1300,1400,duration=0.2)\n",
    "    pyautogui.leftClick(1020,1200,duration=0.3)\n",
    "    time.sleep(1.5)\n",
    "    pyautogui.leftClick(1020,1200,duration=0.3)\n",
    "    time.sleep(1.5)\n",
    "    pyautogui.leftClick(750,727,duration=0.3)\n",
    "    time.sleep(1.5)\n",
    "    #Acte4\n",
    "    #pyautogui.leftClick(450,927,duration=0.3)\n",
    "    #Acte10\n",
    "    pyautogui.leftClick(600,900,duration=0.3)\n",
    "    fct.keyboard('f')\n",
    "    time.sleep(5)\n",
    "    #cpt_no_go_map+=1\n",
    "    #if cpt_no_go_map==10: break\n",
    "    \n",
    "    if fct.in_map():\n",
    "        #cpt_no_go_map=0\n",
    "        \n",
    "        run_acte(wave)\n",
    "        #se vider\n",
    "        if fct.in_city():\n",
    "            if fct.go_blacksmith()==False:\n",
    "                fct.go_blacksmith()\n",
    "        time.sleep(0.5)\n",
    "        if fct.go_waypoint() :\n",
    "            fct.click_icone('screen/launch/icone_storage_acte10.png')\n",
    "            time.sleep(3)\n",
    "            fct.click_icone('screen/launch/storage.png',1)\n",
    "            fct.click_icone('screen/launch/storage_clear.png',1)\n",
    "            fct.click_icone('screen/launch/croix.png')\n",
    "            time.sleep(0.5)    \n",
    "        for i in range(np.random.randint(30, 120)):time.sleep(1)\n",
    "        \n",
    "        \n",
    "\n",
    "    "
   ]
  },
  {
   "cell_type": "code",
   "execution_count": 309,
   "metadata": {},
   "outputs": [
    {
     "data": {
      "text/plain": [
       "44"
      ]
     },
     "execution_count": 309,
     "metadata": {},
     "output_type": "execute_result"
    }
   ],
   "source": [
    "np.random.randint(30, 120)"
   ]
  }
 ],
 "metadata": {
  "kernelspec": {
   "display_name": "Python 3",
   "language": "python",
   "name": "python3"
  },
  "language_info": {
   "codemirror_mode": {
    "name": "ipython",
    "version": 3
   },
   "file_extension": ".py",
   "mimetype": "text/x-python",
   "name": "python",
   "nbconvert_exporter": "python",
   "pygments_lexer": "ipython3",
   "version": "3.11.1"
  },
  "orig_nbformat": 4,
  "vscode": {
   "interpreter": {
    "hash": "ba42eb6159de6c900d0747d35a78e3af9d3c34837421ad6ca9b9b239f592eea1"
   }
  }
 },
 "nbformat": 4,
 "nbformat_minor": 2
}
